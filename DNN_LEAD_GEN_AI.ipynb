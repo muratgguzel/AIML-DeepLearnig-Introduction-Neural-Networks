{
  "nbformat": 4,
  "nbformat_minor": 0,
  "metadata": {
    "colab": {
      "provenance": [],
      "authorship_tag": "ABX9TyMM17JGbACLgkgL9T1vTNGe",
      "include_colab_link": true
    },
    "kernelspec": {
      "name": "python3",
      "display_name": "Python 3"
    },
    "language_info": {
      "name": "python"
    }
  },
  "cells": [
    {
      "cell_type": "markdown",
      "metadata": {
        "id": "view-in-github",
        "colab_type": "text"
      },
      "source": [
        "<a href=\"https://colab.research.google.com/github/muratgguzel/AIML-DeepLearnig-Introduction-Neural-Networks/blob/main/DNN_LEAD_GEN_AI.ipynb\" target=\"_parent\"><img src=\"https://colab.research.google.com/assets/colab-badge.svg\" alt=\"Open In Colab\"/></a>"
      ]
    },
    {
      "cell_type": "code",
      "execution_count": 2,
      "metadata": {
        "id": "vJnKEuZKbSRv",
        "colab": {
          "base_uri": "https://localhost:8080/"
        },
        "outputId": "959a2fca-341d-48b4-a949-c47ab21c88f9"
      },
      "outputs": [
        {
          "output_type": "stream",
          "name": "stdout",
          "text": [
            "Mounted at /content/drive\n"
          ]
        }
      ],
      "source": [
        "from google.colab import drive\n",
        "drive.mount('/content/drive')"
      ]
    },
    {
      "cell_type": "code",
      "execution_count": 3,
      "metadata": {
        "id": "KdfHPJPtMFCj",
        "colab": {
          "base_uri": "https://localhost:8080/"
        },
        "outputId": "f8afa58a-c8d6-4be3-a70e-e8c8c424d22b"
      },
      "outputs": [
        {
          "output_type": "stream",
          "name": "stdout",
          "text": [
            "/bin/bash: nvidia-smi: command not found\n",
            "Your runtime has 13.6 gigabytes of available RAM\n",
            "\n"
          ]
        }
      ],
      "source": [
        "\n",
        "gpu_info = !nvidia-smi\n",
        "gpu_info = '\\n'.join(gpu_info)\n",
        "if gpu_info.find('failed') >= 0:\n",
        "  print('Not connected to a GPU')\n",
        "else:\n",
        "  print(gpu_info)\n",
        "from psutil import virtual_memory\n",
        "ram_gb = virtual_memory().total / 1e9\n",
        "print('Your runtime has {:.1f} gigabytes of available RAM\\n'.format(ram_gb))\n",
        "\n"
      ]
    },
    {
      "cell_type": "code",
      "execution_count": 4,
      "metadata": {
        "id": "fouROwUobYaC",
        "colab": {
          "base_uri": "https://localhost:8080/"
        },
        "outputId": "9f808dc1-694f-4580-bd0d-7effa2096f87"
      },
      "outputs": [
        {
          "output_type": "stream",
          "name": "stdout",
          "text": [
            "Not using a high-RAM runtime\n",
            "/content\n"
          ]
        }
      ],
      "source": [
        "if ram_gb < 20:\n",
        "  print('Not using a high-RAM runtime')\n",
        "else:\n",
        "  print('You are using a high-RAM runtime!')\n",
        "! pwd"
      ]
    },
    {
      "cell_type": "markdown",
      "source": [
        "### Objective\n",
        "\n",
        "EPAM is willing to dedect past contacts from linked in whom had a period of interaction with EPAM based on different seniority levels.\n",
        "\n",
        "EPAM willing to increase Leads with reaching out these valuable contacts by using AI functionality."
      ],
      "metadata": {
        "id": "zXy2_Z4yPSqn"
      }
    },
    {
      "cell_type": "markdown",
      "source": [
        "DATA DICTIONARY"
      ],
      "metadata": {
        "id": "2sDeCFa4P6Lb"
      }
    },
    {
      "cell_type": "markdown",
      "source": [
        " 0    LeadGen\n",
        "\n",
        " 1   LinkedIn_Profile\n",
        "\n",
        " 2   LinkedIn_Follower_Count\n",
        "\n",
        " 3   Linkedin_Connection_Count\n",
        "\n",
        " 4   Full_Name\n",
        "\n",
        " 5   Searched_Email\n",
        "\n",
        " 6   Previous_Seniority_Level\n",
        "\n",
        " 7   Current_Seniority_Level\n",
        "\n",
        " 8   Previous_Company\n",
        "\n",
        " 9   Previous_Company_Size\n",
        "\n",
        " 10  Previous_Company_Industry_EPAM\n",
        "\n",
        " 11  Previous_Company_Employess_On_Linkedin\n",
        "\n",
        " 12  Previous_Company_Followers\n",
        "\n",
        " 13  Previous_Company_Parent_Cmp_exist\n",
        "\n",
        " 14  Previous_Company_Forbes\n",
        "\n",
        " 15  Previous_Company_Average_NPS\n",
        "\n",
        " 16  Communication_intensity\n",
        "\n",
        " 17  Engagement_Duration_Epam\n",
        "\n",
        " 18  Engegement_Cnt_Epam\n",
        "\n",
        " 19  First_engagement_year\n",
        "\n",
        " 20  Seniority_Level_Of_Epam\n",
        "\n",
        " 21  Engegement_Cnt_Epam_C_track\n",
        "\n",
        " 22  Engegement_Cnt_Epam_C_track_CommIntens\n",
        "\n",
        " 23  Current_Company\n",
        "\n",
        " 24  Current_Company_Size\n",
        "\n",
        " 25  Current_Company_Employess_On_Linkedin\n",
        "\n",
        " 26  Current_Company_Followers\n",
        "\n",
        " 27  Current_Company_Tier\n",
        "\n",
        " 28  Current_Company_Parent_Cmp_exist\n",
        "\n",
        " 29  Current_Company_Industry_EPAM\n",
        "\n",
        " 30  Current_Company_Rev\n",
        "\n",
        " 31  Current_Company_Forbes\n"
      ],
      "metadata": {
        "id": "bp3KdDa_P4kQ"
      }
    },
    {
      "cell_type": "markdown",
      "source": [
        "## 1-LOADING LIBRARIES"
      ],
      "metadata": {
        "id": "feOny-nmQDmM"
      }
    },
    {
      "cell_type": "code",
      "source": [
        "!pip install nb_black"
      ],
      "metadata": {
        "colab": {
          "base_uri": "https://localhost:8080/"
        },
        "id": "hrGX-9kEPUTY",
        "outputId": "37a39183-7dcc-4d10-9655-4fcee74f72cf"
      },
      "execution_count": 1,
      "outputs": [
        {
          "output_type": "stream",
          "name": "stdout",
          "text": [
            "Collecting nb_black\n",
            "  Downloading nb_black-1.0.7.tar.gz (4.8 kB)\n",
            "  \u001b[1;31merror\u001b[0m: \u001b[1msubprocess-exited-with-error\u001b[0m\n",
            "  \n",
            "  \u001b[31m×\u001b[0m \u001b[32mpython setup.py egg_info\u001b[0m did not run successfully.\n",
            "  \u001b[31m│\u001b[0m exit code: \u001b[1;36m1\u001b[0m\n",
            "  \u001b[31m╰─>\u001b[0m See above for output.\n",
            "  \n",
            "  \u001b[1;35mnote\u001b[0m: This error originates from a subprocess, and is likely not a problem with pip.\n",
            "  Preparing metadata (setup.py) ... \u001b[?25l\u001b[?25herror\n",
            "\u001b[1;31merror\u001b[0m: \u001b[1mmetadata-generation-failed\u001b[0m\n",
            "\n",
            "\u001b[31m×\u001b[0m Encountered error while generating package metadata.\n",
            "\u001b[31m╰─>\u001b[0m See above for output.\n",
            "\n",
            "\u001b[1;35mnote\u001b[0m: This is an issue with the package mentioned above, not pip.\n",
            "\u001b[1;36mhint\u001b[0m: See above for details.\n"
          ]
        }
      ]
    },
    {
      "cell_type": "code",
      "source": [
        "!pip install tensorflow"
      ],
      "metadata": {
        "colab": {
          "base_uri": "https://localhost:8080/"
        },
        "id": "AplyEE57PVaC",
        "outputId": "ef374876-c093-45e1-b33d-730dbf549c39"
      },
      "execution_count": 5,
      "outputs": [
        {
          "output_type": "stream",
          "name": "stdout",
          "text": [
            "Requirement already satisfied: tensorflow in /usr/local/lib/python3.10/dist-packages (2.12.0)\n",
            "Requirement already satisfied: absl-py>=1.0.0 in /usr/local/lib/python3.10/dist-packages (from tensorflow) (1.4.0)\n",
            "Requirement already satisfied: astunparse>=1.6.0 in /usr/local/lib/python3.10/dist-packages (from tensorflow) (1.6.3)\n",
            "Requirement already satisfied: flatbuffers>=2.0 in /usr/local/lib/python3.10/dist-packages (from tensorflow) (23.5.26)\n",
            "Requirement already satisfied: gast<=0.4.0,>=0.2.1 in /usr/local/lib/python3.10/dist-packages (from tensorflow) (0.4.0)\n",
            "Requirement already satisfied: google-pasta>=0.1.1 in /usr/local/lib/python3.10/dist-packages (from tensorflow) (0.2.0)\n",
            "Requirement already satisfied: grpcio<2.0,>=1.24.3 in /usr/local/lib/python3.10/dist-packages (from tensorflow) (1.56.0)\n",
            "Requirement already satisfied: h5py>=2.9.0 in /usr/local/lib/python3.10/dist-packages (from tensorflow) (3.8.0)\n",
            "Requirement already satisfied: jax>=0.3.15 in /usr/local/lib/python3.10/dist-packages (from tensorflow) (0.4.10)\n",
            "Requirement already satisfied: keras<2.13,>=2.12.0 in /usr/local/lib/python3.10/dist-packages (from tensorflow) (2.12.0)\n",
            "Requirement already satisfied: libclang>=13.0.0 in /usr/local/lib/python3.10/dist-packages (from tensorflow) (16.0.0)\n",
            "Requirement already satisfied: numpy<1.24,>=1.22 in /usr/local/lib/python3.10/dist-packages (from tensorflow) (1.22.4)\n",
            "Requirement already satisfied: opt-einsum>=2.3.2 in /usr/local/lib/python3.10/dist-packages (from tensorflow) (3.3.0)\n",
            "Requirement already satisfied: packaging in /usr/local/lib/python3.10/dist-packages (from tensorflow) (23.1)\n",
            "Requirement already satisfied: protobuf!=4.21.0,!=4.21.1,!=4.21.2,!=4.21.3,!=4.21.4,!=4.21.5,<5.0.0dev,>=3.20.3 in /usr/local/lib/python3.10/dist-packages (from tensorflow) (3.20.3)\n",
            "Requirement already satisfied: setuptools in /usr/local/lib/python3.10/dist-packages (from tensorflow) (67.7.2)\n",
            "Requirement already satisfied: six>=1.12.0 in /usr/local/lib/python3.10/dist-packages (from tensorflow) (1.16.0)\n",
            "Requirement already satisfied: tensorboard<2.13,>=2.12 in /usr/local/lib/python3.10/dist-packages (from tensorflow) (2.12.3)\n",
            "Requirement already satisfied: tensorflow-estimator<2.13,>=2.12.0 in /usr/local/lib/python3.10/dist-packages (from tensorflow) (2.12.0)\n",
            "Requirement already satisfied: termcolor>=1.1.0 in /usr/local/lib/python3.10/dist-packages (from tensorflow) (2.3.0)\n",
            "Requirement already satisfied: typing-extensions>=3.6.6 in /usr/local/lib/python3.10/dist-packages (from tensorflow) (4.6.3)\n",
            "Requirement already satisfied: wrapt<1.15,>=1.11.0 in /usr/local/lib/python3.10/dist-packages (from tensorflow) (1.14.1)\n",
            "Requirement already satisfied: tensorflow-io-gcs-filesystem>=0.23.1 in /usr/local/lib/python3.10/dist-packages (from tensorflow) (0.32.0)\n",
            "Requirement already satisfied: wheel<1.0,>=0.23.0 in /usr/local/lib/python3.10/dist-packages (from astunparse>=1.6.0->tensorflow) (0.40.0)\n",
            "Requirement already satisfied: ml-dtypes>=0.1.0 in /usr/local/lib/python3.10/dist-packages (from jax>=0.3.15->tensorflow) (0.2.0)\n",
            "Requirement already satisfied: scipy>=1.7 in /usr/local/lib/python3.10/dist-packages (from jax>=0.3.15->tensorflow) (1.10.1)\n",
            "Requirement already satisfied: google-auth<3,>=1.6.3 in /usr/local/lib/python3.10/dist-packages (from tensorboard<2.13,>=2.12->tensorflow) (2.17.3)\n",
            "Requirement already satisfied: google-auth-oauthlib<1.1,>=0.5 in /usr/local/lib/python3.10/dist-packages (from tensorboard<2.13,>=2.12->tensorflow) (1.0.0)\n",
            "Requirement already satisfied: markdown>=2.6.8 in /usr/local/lib/python3.10/dist-packages (from tensorboard<2.13,>=2.12->tensorflow) (3.4.3)\n",
            "Requirement already satisfied: requests<3,>=2.21.0 in /usr/local/lib/python3.10/dist-packages (from tensorboard<2.13,>=2.12->tensorflow) (2.27.1)\n",
            "Requirement already satisfied: tensorboard-data-server<0.8.0,>=0.7.0 in /usr/local/lib/python3.10/dist-packages (from tensorboard<2.13,>=2.12->tensorflow) (0.7.1)\n",
            "Requirement already satisfied: werkzeug>=1.0.1 in /usr/local/lib/python3.10/dist-packages (from tensorboard<2.13,>=2.12->tensorflow) (2.3.6)\n",
            "Requirement already satisfied: cachetools<6.0,>=2.0.0 in /usr/local/lib/python3.10/dist-packages (from google-auth<3,>=1.6.3->tensorboard<2.13,>=2.12->tensorflow) (5.3.1)\n",
            "Requirement already satisfied: pyasn1-modules>=0.2.1 in /usr/local/lib/python3.10/dist-packages (from google-auth<3,>=1.6.3->tensorboard<2.13,>=2.12->tensorflow) (0.3.0)\n",
            "Requirement already satisfied: rsa<5,>=3.1.4 in /usr/local/lib/python3.10/dist-packages (from google-auth<3,>=1.6.3->tensorboard<2.13,>=2.12->tensorflow) (4.9)\n",
            "Requirement already satisfied: requests-oauthlib>=0.7.0 in /usr/local/lib/python3.10/dist-packages (from google-auth-oauthlib<1.1,>=0.5->tensorboard<2.13,>=2.12->tensorflow) (1.3.1)\n",
            "Requirement already satisfied: urllib3<1.27,>=1.21.1 in /usr/local/lib/python3.10/dist-packages (from requests<3,>=2.21.0->tensorboard<2.13,>=2.12->tensorflow) (1.26.16)\n",
            "Requirement already satisfied: certifi>=2017.4.17 in /usr/local/lib/python3.10/dist-packages (from requests<3,>=2.21.0->tensorboard<2.13,>=2.12->tensorflow) (2023.5.7)\n",
            "Requirement already satisfied: charset-normalizer~=2.0.0 in /usr/local/lib/python3.10/dist-packages (from requests<3,>=2.21.0->tensorboard<2.13,>=2.12->tensorflow) (2.0.12)\n",
            "Requirement already satisfied: idna<4,>=2.5 in /usr/local/lib/python3.10/dist-packages (from requests<3,>=2.21.0->tensorboard<2.13,>=2.12->tensorflow) (3.4)\n",
            "Requirement already satisfied: MarkupSafe>=2.1.1 in /usr/local/lib/python3.10/dist-packages (from werkzeug>=1.0.1->tensorboard<2.13,>=2.12->tensorflow) (2.1.3)\n",
            "Requirement already satisfied: pyasn1<0.6.0,>=0.4.6 in /usr/local/lib/python3.10/dist-packages (from pyasn1-modules>=0.2.1->google-auth<3,>=1.6.3->tensorboard<2.13,>=2.12->tensorflow) (0.5.0)\n",
            "Requirement already satisfied: oauthlib>=3.0.0 in /usr/local/lib/python3.10/dist-packages (from requests-oauthlib>=0.7.0->google-auth-oauthlib<1.1,>=0.5->tensorboard<2.13,>=2.12->tensorflow) (3.2.2)\n"
          ]
        }
      ]
    },
    {
      "cell_type": "code",
      "source": [
        "## Install Keras Tuner\n",
        "!pip install keras-tuner"
      ],
      "metadata": {
        "colab": {
          "base_uri": "https://localhost:8080/"
        },
        "id": "v-pwWYToPVXQ",
        "outputId": "e00cc60c-30d4-43f7-8da3-152f3169eee0"
      },
      "execution_count": 6,
      "outputs": [
        {
          "output_type": "stream",
          "name": "stdout",
          "text": [
            "Collecting keras-tuner\n",
            "  Downloading keras_tuner-1.3.5-py3-none-any.whl (176 kB)\n",
            "\u001b[?25l     \u001b[90m━━━━━━━━━━━━━━━━━━━━━━━━━━━━━━━━━━━━━━━━\u001b[0m \u001b[32m0.0/176.1 kB\u001b[0m \u001b[31m?\u001b[0m eta \u001b[36m-:--:--\u001b[0m\r\u001b[2K     \u001b[91m━━━━━━━━━━━━━━━━━━━━━━━━━━━━━━━━━━━━━━\u001b[0m\u001b[91m╸\u001b[0m \u001b[32m174.1/176.1 kB\u001b[0m \u001b[31m6.0 MB/s\u001b[0m eta \u001b[36m0:00:01\u001b[0m\r\u001b[2K     \u001b[90m━━━━━━━━━━━━━━━━━━━━━━━━━━━━━━━━━━━━━━━\u001b[0m \u001b[32m176.1/176.1 kB\u001b[0m \u001b[31m4.6 MB/s\u001b[0m eta \u001b[36m0:00:00\u001b[0m\n",
            "\u001b[?25hRequirement already satisfied: packaging in /usr/local/lib/python3.10/dist-packages (from keras-tuner) (23.1)\n",
            "Requirement already satisfied: requests in /usr/local/lib/python3.10/dist-packages (from keras-tuner) (2.27.1)\n",
            "Collecting kt-legacy (from keras-tuner)\n",
            "  Downloading kt_legacy-1.0.5-py3-none-any.whl (9.6 kB)\n",
            "Requirement already satisfied: urllib3<1.27,>=1.21.1 in /usr/local/lib/python3.10/dist-packages (from requests->keras-tuner) (1.26.16)\n",
            "Requirement already satisfied: certifi>=2017.4.17 in /usr/local/lib/python3.10/dist-packages (from requests->keras-tuner) (2023.5.7)\n",
            "Requirement already satisfied: charset-normalizer~=2.0.0 in /usr/local/lib/python3.10/dist-packages (from requests->keras-tuner) (2.0.12)\n",
            "Requirement already satisfied: idna<4,>=2.5 in /usr/local/lib/python3.10/dist-packages (from requests->keras-tuner) (3.4)\n",
            "Installing collected packages: kt-legacy, keras-tuner\n",
            "Successfully installed keras-tuner-1.3.5 kt-legacy-1.0.5\n"
          ]
        }
      ]
    },
    {
      "cell_type": "code",
      "source": [
        "# this will help in making the Python code more structured automatically (good coding practice)\n",
        "#%load_ext nb_black\n",
        "\n",
        "import warnings\n",
        "\n",
        "warnings.filterwarnings(\"ignore\")\n",
        "\n",
        "# Libraries to help with reading and manipulating data\n",
        "import numpy as np\n",
        "import pandas as pd\n",
        "\n",
        "# Libraries to help with data visualization\n",
        "import matplotlib.pyplot as plt\n",
        "import seaborn as sns\n",
        "\n",
        "# Removes the limit for the number of displayed columns\n",
        "pd.set_option(\"display.max_columns\", None)\n",
        "# Sets the limit for the number of displayed rows\n",
        "pd.set_option(\"display.max_rows\", 200)\n",
        "\n",
        "# to scale the data using z-score\n",
        "from sklearn.preprocessing import StandardScaler\n",
        "from sklearn.model_selection import train_test_split\n",
        "from sklearn.preprocessing import LabelEncoder, OneHotEncoder\n",
        "from sklearn import model_selection\n",
        "from sklearn.compose import ColumnTransformer\n",
        "import matplotlib.pyplot as plt\n",
        "import seaborn as sns\n",
        "from sklearn.impute import SimpleImputer\n",
        "import warnings\n",
        "from sklearn.metrics import confusion_matrix\n",
        "from sklearn.pipeline import Pipeline\n",
        "from sklearn.model_selection import GridSearchCV\n",
        "from sklearn.model_selection import RandomizedSearchCV\n",
        "import tensorflow as tf\n",
        "from tensorflow.keras.models import Sequential\n",
        "from tensorflow.keras.layers import Dense\n",
        "from tensorflow.keras.layers import Dense, Input, Dropout,BatchNormalization\n",
        "from tensorflow.keras.wrappers.scikit_learn import KerasClassifier\n",
        "import random\n",
        "from tensorflow.keras import backend\n",
        "random.seed(1)\n",
        "np.random.seed(1)\n",
        "tf.random.set_seed(1)\n",
        "warnings.filterwarnings(\"ignore\")\n",
        "\n",
        "import keras\n",
        "from tensorflow.keras.utils import to_categorical\n",
        "import warnings\n",
        "warnings.filterwarnings('ignore')\n",
        "from tensorflow.keras.callbacks import ModelCheckpoint, ReduceLROnPlateau\n",
        "\n",
        "# Library to split data\n",
        "from sklearn.model_selection import train_test_split\n",
        "# Library to encode the variables\n",
        "from sklearn import preprocessing\n",
        "# To plot confusion matrix\n",
        "from sklearn.metrics import confusion_matrix\n",
        "# libaries to help with data visualization\n",
        "import matplotlib.pyplot as plt\n",
        "import seaborn as sns\n",
        "# library to import to standardize the data\n",
        "from sklearn.preprocessing import StandardScaler\n",
        "#To import different metrics\n",
        "from sklearn import metrics\n",
        "import sklearn\n",
        "from tensorflow.keras import backend\n",
        "# Library to avoid the warnings\n",
        "import warnings\n",
        "warnings.filterwarnings(\"ignore\")\n",
        "# importing different functions to build models\n",
        "from tensorflow.keras.models import Sequential\n",
        "from tensorflow.keras.layers import Dense\n",
        "from tensorflow.keras.layers import Dense, Input, Dropout,BatchNormalization\n",
        "import tensorflow as tf\n",
        "\n",
        "from tensorflow import keras\n",
        "from tensorflow.keras import layers\n",
        "from kerastuner.tuners import RandomSearch"
      ],
      "metadata": {
        "id": "YRcTP1TcPVUi"
      },
      "execution_count": 7,
      "outputs": []
    },
    {
      "cell_type": "markdown",
      "source": [
        "##2-LOADING AND EXPLORING DATA"
      ],
      "metadata": {
        "id": "WNotdi1uQmqR"
      }
    },
    {
      "cell_type": "code",
      "source": [
        "Row_Data = pd.read_csv(\"https://raw.githubusercontent.com/SergeyKrupeninEPAM/LeadGenAIEngine/master/Release_4_Generated_test_06-26-2023.csv?token=GHSAT0AAAAAACCSWB7MI2NVGAJQGQGH6R3SZFCUNNA\",encoding='utf-8',dtype=\"str\")"
      ],
      "metadata": {
        "id": "gzAURkAjPVR7"
      },
      "execution_count": 9,
      "outputs": []
    },
    {
      "cell_type": "code",
      "source": [
        "# copying data to another variable to avoid any changes to original data\n",
        "data = Row_Data.copy()"
      ],
      "metadata": {
        "id": "iGpd9XnuPVPH"
      },
      "execution_count": 10,
      "outputs": []
    },
    {
      "cell_type": "code",
      "source": [
        "data.columns"
      ],
      "metadata": {
        "colab": {
          "base_uri": "https://localhost:8080/"
        },
        "id": "1fsNNuYsPVL_",
        "outputId": "b6acee62-0a2b-44b7-afb2-833a9a6a2aa8"
      },
      "execution_count": 11,
      "outputs": [
        {
          "output_type": "execute_result",
          "data": {
            "text/plain": [
              "Index(['LeadGen', 'LinkedIn_Profile', 'LinkedIn_Follower_Count',\n",
              "       'Linkedin_Connection_Count', 'Full_Name', 'Searched_Email',\n",
              "       'Previous_Seniority_Level', 'Current_Seniority_Level',\n",
              "       'Previous_Company', 'Previous_Company_Size',\n",
              "       'Previous_Company_Industry_EPAM',\n",
              "       'Previous_Company_Employess_On_Linkedin', 'Previous_Company_Followers',\n",
              "       'Previous_Company_Parent_Cmp_exist', 'Previous_Company_Forbes',\n",
              "       'Previous_Company_Average_NPS', 'Communication_intensity',\n",
              "       'Engagement_Duration_Epam', 'Engegement_Cnt_Epam',\n",
              "       'First_engagement_year', 'Seniority_Level_Of_Epam',\n",
              "       'Engegement_Cnt_Epam_C_track', 'Engegement_Cnt_Epam_C_track_CommIntens',\n",
              "       'Current_Company', 'Current_Company_Size',\n",
              "       'Current_Company_Employess_On_Linkedin', 'Current_Company_Followers',\n",
              "       'Current_Company_Tier', 'Current_Company_Parent_Cmp_exist',\n",
              "       'Current_Company_Industry_EPAM', 'Current_Company_Rev',\n",
              "       'Current_Company_Forbes'],\n",
              "      dtype='object')"
            ]
          },
          "metadata": {},
          "execution_count": 11
        }
      ]
    },
    {
      "cell_type": "code",
      "source": [
        "print(f\"There are {data.shape[0]} rows and {data.shape[1]} columns.\")"
      ],
      "metadata": {
        "colab": {
          "base_uri": "https://localhost:8080/"
        },
        "id": "eSSLfh7WPVJZ",
        "outputId": "c1654bec-a0d7-4738-e6d3-c2c04042ff5a"
      },
      "execution_count": 12,
      "outputs": [
        {
          "output_type": "stream",
          "name": "stdout",
          "text": [
            "There are 1356 rows and 32 columns.\n"
          ]
        }
      ]
    },
    {
      "cell_type": "code",
      "source": [
        "# make a list of the variables that contain missing values\n",
        "vars_with_na = [var for var in data.columns if data[var].isnull().sum() > 0]\n",
        "\n",
        "# determine percentage of missing values (expressed as decimals)\n",
        "# and display the result ordered by % of missin data\n",
        "\n",
        "data[vars_with_na].isnull().mean().sort_values(ascending=False)"
      ],
      "metadata": {
        "colab": {
          "base_uri": "https://localhost:8080/"
        },
        "id": "ErNafZ0CT2NU",
        "outputId": "d5613082-e505-483a-a04b-43d456607eb7"
      },
      "execution_count": 15,
      "outputs": [
        {
          "output_type": "execute_result",
          "data": {
            "text/plain": [
              "Previous_Company_Average_NPS              0.084071\n",
              "Current_Company_Employess_On_Linkedin     0.046460\n",
              "Linkedin_Connection_Count                 0.037611\n",
              "LinkedIn_Follower_Count                   0.036873\n",
              "Engegement_Cnt_Epam_C_track_CommIntens    0.028024\n",
              "Engegement_Cnt_Epam_C_track               0.028024\n",
              "First_engagement_year                     0.028024\n",
              "Engegement_Cnt_Epam                       0.028024\n",
              "Engagement_Duration_Epam                  0.028024\n",
              "Communication_intensity                   0.028024\n",
              "Current_Company_Industry_EPAM             0.021386\n",
              "Current_Company_Followers                 0.019174\n",
              "Current_Company_Rev                       0.016962\n",
              "Previous_Company_Employess_On_Linkedin    0.015487\n",
              "Current_Company_Tier                      0.005900\n",
              "Previous_Company_Followers                0.002212\n",
              "Previous_Company_Industry_EPAM            0.002212\n",
              "dtype: float64"
            ]
          },
          "metadata": {},
          "execution_count": 15
        }
      ]
    },
    {
      "cell_type": "code",
      "source": [
        "data[vars_with_na].isnull().mean().sort_values(\n",
        "    ascending=False).plot.bar(figsize=(10, 4))\n",
        "plt.ylabel('Percentage of missing data')\n",
        "plt.axhline(y=0.1, color='r', linestyle='-')\n",
        "plt.axhline(y=0.09, color='g', linestyle='-')\n",
        "\n",
        "plt.show()"
      ],
      "metadata": {
        "colab": {
          "base_uri": "https://localhost:8080/",
          "height": 675
        },
        "id": "lBvmoPzWPVGo",
        "outputId": "33975517-c8f8-4532-e7f0-a8c0ce9df1f4"
      },
      "execution_count": 16,
      "outputs": [
        {
          "output_type": "display_data",
          "data": {
            "text/plain": [
              "<Figure size 1000x400 with 1 Axes>"
            ],
            "image/png": "[encoded data removed]"
          },
          "metadata": {}
        }
      ]
    },
    {
      "cell_type": "code",
      "source": [
        "data.info()"
      ],
      "metadata": {
        "colab": {
          "base_uri": "https://localhost:8080/"
        },
        "id": "FcGl_fJRPVD3",
        "outputId": "e168c5e2-67ed-485d-b7f9-00aa2fd08d55"
      },
      "execution_count": 17,
      "outputs": [
        {
          "output_type": "stream",
          "name": "stdout",
          "text": [
            "<class 'pandas.core.frame.DataFrame'>\n",
            "RangeIndex: 1356 entries, 0 to 1355\n",
            "Data columns (total 32 columns):\n",
            " #   Column                                  Non-Null Count  Dtype \n",
            "---  ------                                  --------------  ----- \n",
            " 0   LeadGen                                 1356 non-null   object\n",
            " 1   LinkedIn_Profile                        1356 non-null   object\n",
            " 2   LinkedIn_Follower_Count                 1306 non-null   object\n",
            " 3   Linkedin_Connection_Count               1305 non-null   object\n",
            " 4   Full_Name                               1356 non-null   object\n",
            " 5   Searched_Email                          1356 non-null   object\n",
            " 6   Previous_Seniority_Level                1356 non-null   object\n",
            " 7   Current_Seniority_Level                 1356 non-null   object\n",
            " 8   Previous_Company                        1356 non-null   object\n",
            " 9   Previous_Company_Size                   1356 non-null   object\n",
            " 10  Previous_Company_Industry_EPAM          1353 non-null   object\n",
            " 11  Previous_Company_Employess_On_Linkedin  1335 non-null   object\n",
            " 12  Previous_Company_Followers              1353 non-null   object\n",
            " 13  Previous_Company_Parent_Cmp_exist       1356 non-null   object\n",
            " 14  Previous_Company_Forbes                 1356 non-null   object\n",
            " 15  Previous_Company_Average_NPS            1242 non-null   object\n",
            " 16  Communication_intensity                 1318 non-null   object\n",
            " 17  Engagement_Duration_Epam                1318 non-null   object\n",
            " 18  Engegement_Cnt_Epam                     1318 non-null   object\n",
            " 19  First_engagement_year                   1318 non-null   object\n",
            " 20  Seniority_Level_Of_Epam                 1356 non-null   object\n",
            " 21  Engegement_Cnt_Epam_C_track             1318 non-null   object\n",
            " 22  Engegement_Cnt_Epam_C_track_CommIntens  1318 non-null   object\n",
            " 23  Current_Company                         1356 non-null   object\n",
            " 24  Current_Company_Size                    1356 non-null   object\n",
            " 25  Current_Company_Employess_On_Linkedin   1293 non-null   object\n",
            " 26  Current_Company_Followers               1330 non-null   object\n",
            " 27  Current_Company_Tier                    1348 non-null   object\n",
            " 28  Current_Company_Parent_Cmp_exist        1356 non-null   object\n",
            " 29  Current_Company_Industry_EPAM           1327 non-null   object\n",
            " 30  Current_Company_Rev                     1333 non-null   object\n",
            " 31  Current_Company_Forbes                  1356 non-null   object\n",
            "dtypes: object(32)\n",
            "memory usage: 339.1+ KB\n"
          ]
        }
      ]
    },
    {
      "cell_type": "code",
      "source": [
        "data.isnull().sum()"
      ],
      "metadata": {
        "colab": {
          "base_uri": "https://localhost:8080/"
        },
        "id": "aDclXw86PVBT",
        "outputId": "d5ab3753-135b-41b0-c1fc-99a120e92934"
      },
      "execution_count": 18,
      "outputs": [
        {
          "output_type": "execute_result",
          "data": {
            "text/plain": [
              "LeadGen                                     0\n",
              "LinkedIn_Profile                            0\n",
              "LinkedIn_Follower_Count                    50\n",
              "Linkedin_Connection_Count                  51\n",
              "Full_Name                                   0\n",
              "Searched_Email                              0\n",
              "Previous_Seniority_Level                    0\n",
              "Current_Seniority_Level                     0\n",
              "Previous_Company                            0\n",
              "Previous_Company_Size                       0\n",
              "Previous_Company_Industry_EPAM              3\n",
              "Previous_Company_Employess_On_Linkedin     21\n",
              "Previous_Company_Followers                  3\n",
              "Previous_Company_Parent_Cmp_exist           0\n",
              "Previous_Company_Forbes                     0\n",
              "Previous_Company_Average_NPS              114\n",
              "Communication_intensity                    38\n",
              "Engagement_Duration_Epam                   38\n",
              "Engegement_Cnt_Epam                        38\n",
              "First_engagement_year                      38\n",
              "Seniority_Level_Of_Epam                     0\n",
              "Engegement_Cnt_Epam_C_track                38\n",
              "Engegement_Cnt_Epam_C_track_CommIntens     38\n",
              "Current_Company                             0\n",
              "Current_Company_Size                        0\n",
              "Current_Company_Employess_On_Linkedin      63\n",
              "Current_Company_Followers                  26\n",
              "Current_Company_Tier                        8\n",
              "Current_Company_Parent_Cmp_exist            0\n",
              "Current_Company_Industry_EPAM              29\n",
              "Current_Company_Rev                        23\n",
              "Current_Company_Forbes                      0\n",
              "dtype: int64"
            ]
          },
          "metadata": {},
          "execution_count": 18
        }
      ]
    },
    {
      "cell_type": "code",
      "source": [
        "num_missing = data.isnull().sum(axis=1)\n",
        "num_missing.value_counts()"
      ],
      "metadata": {
        "colab": {
          "base_uri": "https://localhost:8080/"
        },
        "id": "oCk8mvnTPU-n",
        "outputId": "949dd102-ca64-43ec-d5a2-7f32468f706b"
      },
      "execution_count": 19,
      "outputs": [
        {
          "output_type": "execute_result",
          "data": {
            "text/plain": [
              "0    1084\n",
              "1     151\n",
              "2      48\n",
              "6      31\n",
              "3      21\n",
              "7      11\n",
              "5       6\n",
              "4       4\n",
              "dtype: int64"
            ]
          },
          "metadata": {},
          "execution_count": 19
        }
      ]
    },
    {
      "cell_type": "code",
      "source": [
        "round(data.isnull().sum() / data.isnull().count() * 100, 2)"
      ],
      "metadata": {
        "colab": {
          "base_uri": "https://localhost:8080/"
        },
        "id": "34hsV5noPU8D",
        "outputId": "79903556-30cc-4efe-bb92-35a4523457fc"
      },
      "execution_count": 20,
      "outputs": [
        {
          "output_type": "execute_result",
          "data": {
            "text/plain": [
              "LeadGen                                   0.00\n",
              "LinkedIn_Profile                          0.00\n",
              "LinkedIn_Follower_Count                   3.69\n",
              "Linkedin_Connection_Count                 3.76\n",
              "Full_Name                                 0.00\n",
              "Searched_Email                            0.00\n",
              "Previous_Seniority_Level                  0.00\n",
              "Current_Seniority_Level                   0.00\n",
              "Previous_Company                          0.00\n",
              "Previous_Company_Size                     0.00\n",
              "Previous_Company_Industry_EPAM            0.22\n",
              "Previous_Company_Employess_On_Linkedin    1.55\n",
              "Previous_Company_Followers                0.22\n",
              "Previous_Company_Parent_Cmp_exist         0.00\n",
              "Previous_Company_Forbes                   0.00\n",
              "Previous_Company_Average_NPS              8.41\n",
              "Communication_intensity                   2.80\n",
              "Engagement_Duration_Epam                  2.80\n",
              "Engegement_Cnt_Epam                       2.80\n",
              "First_engagement_year                     2.80\n",
              "Seniority_Level_Of_Epam                   0.00\n",
              "Engegement_Cnt_Epam_C_track               2.80\n",
              "Engegement_Cnt_Epam_C_track_CommIntens    2.80\n",
              "Current_Company                           0.00\n",
              "Current_Company_Size                      0.00\n",
              "Current_Company_Employess_On_Linkedin     4.65\n",
              "Current_Company_Followers                 1.92\n",
              "Current_Company_Tier                      0.59\n",
              "Current_Company_Parent_Cmp_exist          0.00\n",
              "Current_Company_Industry_EPAM             2.14\n",
              "Current_Company_Rev                       1.70\n",
              "Current_Company_Forbes                    0.00\n",
              "dtype: float64"
            ]
          },
          "metadata": {},
          "execution_count": 20
        }
      ]
    },
    {
      "cell_type": "code",
      "source": [
        "print(data.LeadGen.value_counts())\n",
        "print(data.LinkedIn_Profile.value_counts())\n",
        "print(data.LinkedIn_Follower_Count.value_counts())\n",
        "print(data.Linkedin_Connection_Count.value_counts())\n",
        "print(data.Full_Name.value_counts())\n",
        "print(data.Searched_Email.value_counts())\n",
        "print(data.Previous_Seniority_Level.value_counts())\n",
        "print(data.Current_Seniority_Level.value_counts())\n",
        "print(data.Previous_Company.value_counts())\n",
        "print(data.Previous_Company_Size.value_counts())\n",
        "print(data.Previous_Company_Industry_EPAM.value_counts())\n",
        "print(data.Previous_Company_Employess_On_Linkedin.value_counts())\n",
        "print(data.Previous_Company_Followers.value_counts())\n",
        "print(data.Previous_Company_Parent_Cmp_exist.value_counts())\n",
        "print(data.Previous_Company_Forbes.value_counts())\n",
        "print(data.Previous_Company_Average_NPS.value_counts())\n",
        "print(data.Communication_intensity.value_counts())\n",
        "print(data.Engagement_Duration_Epam.value_counts())\n",
        "print(data.Engegement_Cnt_Epam.value_counts())\n",
        "print(data.First_engagement_year.value_counts())\n",
        "print(data.Seniority_Level_Of_Epam.value_counts())\n",
        "print(data.Engegement_Cnt_Epam_C_track.value_counts())\n",
        "print(data.Engegement_Cnt_Epam_C_track_CommIntens.value_counts())\n",
        "print(data.Current_Company.value_counts())\n",
        "print(data.Current_Company_Size.value_counts())\n",
        "print(data.Current_Company_Employess_On_Linkedin.value_counts())\n",
        "print(data.Current_Company_Followers.value_counts())\n",
        "print(data.Current_Company_Tier.value_counts())\n",
        "print(data.Current_Company_Parent_Cmp_exist.value_counts())\n",
        "print(data.Current_Company_Industry_EPAM.value_counts())\n",
        "print(data.Current_Company_Rev.value_counts())\n",
        "print(data.Current_Company_Forbes.value_counts())"
      ],
      "metadata": {
        "colab": {
          "base_uri": "https://localhost:8080/"
        },
        "id": "8FvLw_4QPU5c",
        "outputId": "c99e703e-7582-490e-9cfd-bf3aef787b0c"
      },
      "execution_count": 21,
      "outputs": [
        {
          "output_type": "stream",
          "name": "stdout",
          "text": [
            "0    840\n",
            "1    516\n",
            "Name: LeadGen, dtype: int64\n",
            "https://www.linkedin.com/in/bajjarapu                      1\n",
            "https://www.linkedin.com/in/shakeel-sorathia-62932a6/      1\n",
            "https://www.linkedin.com/in/melynda-bissmeyer-b8609123/    1\n",
            "https://www.linkedin.com/in/alexandra-powell-bba29b74/     1\n",
            "https://www.linkedin.com/in/joseph-h-5196323/              1\n",
            "                                                          ..\n",
            "https://www.linkedin.com/in/munishgupta                    1\n",
            "https://www.linkedin.com/in/rodney-marable-5766b65         1\n",
            "https://www.linkedin.com/in/tharney                        1\n",
            "https://www.linkedin.com/in/mgescheidle                    1\n",
            "https://www.linkedin.com/in/daliya-asuma-7632046/          1\n",
            "Name: LinkedIn_Profile, Length: 1356, dtype: int64\n",
            "915.0      6\n",
            "647.0      5\n",
            "319.0      5\n",
            "349.0      5\n",
            "608.0      5\n",
            "          ..\n",
            "1733.0     1\n",
            "1132.0     1\n",
            "1717.0     1\n",
            "2189.0     1\n",
            "18573.0    1\n",
            "Name: LinkedIn_Follower_Count, Length: 955, dtype: int64\n",
            "468.0      6\n",
            "190.0      5\n",
            "612.0      5\n",
            "360.0      5\n",
            "510.0      5\n",
            "          ..\n",
            "901.0      1\n",
            "2010.0     1\n",
            "1972.0     1\n",
            "762.0      1\n",
            "17510.0    1\n",
            "Name: Linkedin_Connection_Count, Length: 957, dtype: int64\n",
            "Deepak Kumar          2\n",
            "Jeffrey Biss          2\n",
            "Dana Fleur            2\n",
            "Bhaskar Ajjarapu      1\n",
            "Joseph Ha             1\n",
            "                     ..\n",
            "Munish Gupta          1\n",
            "Rodney Marable        1\n",
            "Timothy Harney Jr     1\n",
            "Madalyn Gescheidle    1\n",
            "Daliya Asuma          1\n",
            "Name: Full_Name, Length: 1353, dtype: int64\n",
            "bhaskar.ajjarapu@equifax.com              1\n",
            "shakeel.sorathia@fox.com                  1\n",
            "melynda.bissmeyer@fox.com                 1\n",
            "alexandra.powell@fox.com                  1\n",
            "joseph.ha@fox.com                         1\n",
            "                                         ..\n",
            "mgupta@bioreference.com                   1\n",
            "rmarable@amazon.com                       1\n",
            "harneyt@amazon.com                        1\n",
            "madalyn.gescheidle@blujaysolutions.com    1\n",
            "daliya.asuma@hilti.com                    1\n",
            "Name: Searched_Email, Length: 1356, dtype: int64\n",
            "B        546\n",
            "C        433\n",
            "A        311\n",
            "Other     66\n",
            "Name: Previous_Seniority_Level, dtype: int64\n",
            "B        522\n",
            "C        519\n",
            "A        313\n",
            "Other      2\n",
            "Name: Current_Seniority_Level, dtype: int64\n",
            "Cerner Corporation                               146\n",
            "Thomson Reuters                                   96\n",
            "Live Nation Entertainment                         91\n",
            "Canadian Tire Corporation                         37\n",
            "NBCUniversal                                      35\n",
            "HAVI                                              30\n",
            "One Call                                          27\n",
            "Plex, by Rockwell Automation                      25\n",
            "UKG                                               25\n",
            "Ticketmaster                                      24\n",
            "Inspire Brands                                    24\n",
            "Elsevier                                          20\n",
            "Keurig Dr Pepper Inc.                             20\n",
            "Wolters Kluwer                                    19\n",
            "Dalet Flex                                        19\n",
            "GlobalFoundries                                   18\n",
            "Dentsply Sirona                                   17\n",
            "Thomson Reuters Elite                             16\n",
            "Tory Burch                                        16\n",
            "Cvent                                             15\n",
            "SEPHORA                                           15\n",
            "Foundation Medicine                               14\n",
            "Edmunds                                           14\n",
            "Altair                                            13\n",
            "Kronos Incorporated                               13\n",
            "Coleman Research                                  13\n",
            "National Basketball Association (NBA)             13\n",
            "HireRight                                         12\n",
            "Pearson                                           12\n",
            "BioReference Laboratories                         11\n",
            "Fox Networks Group                                11\n",
            "FGL Sports Ltd                                    11\n",
            "Expedia Group                                     10\n",
            "Smarsh                                             9\n",
            "CoreLogic                                          9\n",
            "Rodan + Fields                                     9\n",
            "SoFi                                               9\n",
            "Focus Brands LLC                                   8\n",
            "McKesson Health Solutions                          8\n",
            "Wayfair                                            8\n",
            "AXS                                                8\n",
            "Mastercard                                         7\n",
            "EBSCO Information Services                         7\n",
            "Genosity                                           7\n",
            "Clarabridge (acquired by Qualtrics)                7\n",
            "Bridgewater Associates                             7\n",
            "ERT                                                7\n",
            "Command Alkon                                      6\n",
            "Headspace                                          6\n",
            "Carta                                              6\n",
            "Otsuka Pharmaceutical Companies (U.S.)             6\n",
            "PNC                                                6\n",
            "United States Golf Association (USGA)              6\n",
            "Liberty Mutual Insurance                           6\n",
            "BluJay Solutions                                   5\n",
            "Datalex                                            5\n",
            "CVS Health                                         5\n",
            "Tokio Marine North America Services                5\n",
            "Mars                                               5\n",
            "Wiley                                              5\n",
            "CME Group                                          5\n",
            "Walgreens Boots Alliance                           5\n",
            "Equifax                                            5\n",
            "FedEx Services                                     5\n",
            "Cigna Healthcare                                   5\n",
            "Alteryx                                            5\n",
            "FedEx                                              5\n",
            "Copyright Clearance Center (CCC)                   5\n",
            "HarperCollins Publishers                           5\n",
            "Electronic Arts (EA)                               4\n",
            "Nordstrom                                          4\n",
            "Mojio                                              4\n",
            "Benefitfocus                                       4\n",
            "Hyland                                             4\n",
            "Cambridge Associates                               4\n",
            "Johnson & Johnson                                  4\n",
            "Schneider Electric                                 4\n",
            "Dollar Shave Club                                  4\n",
            "Discovery Data | ISS Market Intelligence           4\n",
            "Connotate is now part of Import.io                 4\n",
            "Infoblox                                           4\n",
            "Cengage Group                                      4\n",
            "Clarivate                                          4\n",
            "Refinitiv, an LSEG business                        4\n",
            "Goldman Sachs                                      4\n",
            "ConstructConnect                                   4\n",
            "Aramark                                            3\n",
            "Disney Media & Entertainment Distribution          3\n",
            "Mursion                                            3\n",
            "EverythingBenefits                                 3\n",
            "D2iQ                                               3\n",
            "Vanguard                                           3\n",
            "Wolters Kluwer Health                              3\n",
            "IQVIA                                              3\n",
            "FedEx Ground                                       3\n",
            "eBay                                               3\n",
            "News Corp                                          3\n",
            "PayPal                                             3\n",
            "Anadarko Petroleum Corporation                     3\n",
            "The Coca-Cola Company                              3\n",
            "OnSolve                                            3\n",
            "Alexander Wang LLC                                 2\n",
            "MobileIron                                         2\n",
            "Hehmeyer                                           2\n",
            "Alexion Pharmaceuticals, Inc.                      2\n",
            "Sidewalk Labs (Part of Google)                     2\n",
            "Nuance Communications                              2\n",
            "SAP                                                2\n",
            "Jamba                                              2\n",
            "SLB                                                2\n",
            "Chevron                                            2\n",
            "CAVU                                               2\n",
            "Dow Jones                                          2\n",
            "Raymond James Financial                            2\n",
            "Consumer Reports                                   2\n",
            "Brightcove                                         2\n",
            "Honda Innovations                                  2\n",
            "CloudPassage                                       2\n",
            "PerkinElmer, Inc.                                  2\n",
            "The Estée Lauder Companies Inc.                    2\n",
            "Wolters Kluwer - Financial Services Solutions      2\n",
            "Broadridge                                         2\n",
            "Chartis                                            2\n",
            "(USTA) United States Tennis Association            2\n",
            "Vidyo                                              2\n",
            "WorkFusion                                         2\n",
            "Mesosphere                                         2\n",
            "CPA Global                                         2\n",
            "The TJX Companies, Inc.                            2\n",
            "Uber                                               2\n",
            "Sensity Systems                                    2\n",
            "Bose Corporation                                   2\n",
            "Whirlpool Corporation                              2\n",
            "ExxonMobil                                         2\n",
            "Walgreens                                          2\n",
            "Unum                                               2\n",
            "Shell                                              2\n",
            "Amazon Web Services (AWS)                          2\n",
            "Chubb                                              2\n",
            "Walmart                                            2\n",
            "Walmart Global Tech                                2\n",
            "Nominum                                            1\n",
            "BGC Partners                                       1\n",
            "Operative                                          1\n",
            "EIS Ltd                                            1\n",
            "Walgreens Healthcare Solutions                     1\n",
            "HarperCollins Christian Publishing                 1\n",
            "Ford Motor Company                                 1\n",
            "Fresenius Medical Care                             1\n",
            "Lockheed Martin                                    1\n",
            "Thatcher Technology Group                          1\n",
            "Constellation Brands                               1\n",
            "Bristol Myers Squibb                               1\n",
            "CLEAResult                                         1\n",
            "BeyondTrust                                        1\n",
            "BCD Travel                                         1\n",
            "Panasas                                            1\n",
            "Vertafore                                          1\n",
            "Verisk – Insurance Solutions                       1\n",
            "Verisk                                             1\n",
            "Nike                                               1\n",
            "American Century Investments                       1\n",
            "AST                                                1\n",
            "AMERICAN EAGLE OUTFITTERS INC.                     1\n",
            "New Era Cap                                        1\n",
            "Genentech                                          1\n",
            "Radian                                             1\n",
            "Clover Health                                      1\n",
            "UBS                                                1\n",
            "Amway                                              1\n",
            "Keurig Green Mountain, Inc.                        1\n",
            "Cartera – A Rakuten Company                        1\n",
            "iSqFt                                              1\n",
            "Syncplicity                                        1\n",
            "Verizon                                            1\n",
            "MongoDB                                            1\n",
            "PulsePoint                                         1\n",
            "Toyota Research Institute                          1\n",
            "DNV                                                1\n",
            "Jet                                                1\n",
            "Elanco                                             1\n",
            "Dawn Foods Global                                  1\n",
            "SCIEX                                              1\n",
            "Cox Communications                                 1\n",
            "Catapult                                           1\n",
            "The New York Times                                 1\n",
            "TBC Corporation                                    1\n",
            "Stanley Black & Decker, Inc.                       1\n",
            "SHYFT Analytics                                    1\n",
            "New York Life Insurance Company                    1\n",
            "Vertical Screen, Inc.                              1\n",
            "Vertex Inc.                                        1\n",
            "TD Ameritrade                                      1\n",
            "Roku Inc.                                          1\n",
            "Hilti North America                                1\n",
            "Name: Previous_Company, dtype: int64\n",
            "10001+        842\n",
            "1001-5000     194\n",
            "501-1000      106\n",
            "201-500       103\n",
            "5001-10000     64\n",
            "Other          28\n",
            "51-200         19\n",
            "Name: Previous_Company_Size, dtype: int64\n",
            "ISV                  516\n",
            "T&H                  239\n",
            "CPG                  161\n",
            "M&E                   85\n",
            "FS                    62\n",
            "HC                    55\n",
            "Hi-Tech               50\n",
            "MFG                   48\n",
            "Other                 48\n",
            "LS                    45\n",
            "EDU                   19\n",
            "INS                   15\n",
            "Oil&Gas/Utilities     10\n",
            "Name: Previous_Company_Industry_EPAM, dtype: int64\n",
            "207773.0    146\n",
            "17426.0     115\n",
            "30248.0      96\n",
            "23783.0      48\n",
            "13030.0      38\n",
            "55134.0      35\n",
            "3346.0       30\n",
            "1648.0       27\n",
            "559.0        25\n",
            "42450.0      24\n",
            "20949.0      24\n",
            "11085.0      21\n",
            "11117.0      20\n",
            "49.0         19\n",
            "12750.0      18\n",
            "9928.0       17\n",
            "467.0        16\n",
            "3402.0       16\n",
            "125469.0     15\n",
            "92.0         15\n",
            "571.0        14\n",
            "1883.0       14\n",
            "162712.0     14\n",
            "518.0        14\n",
            "253397.0     13\n",
            "740.0        13\n",
            "22723.0      13\n",
            "31091.0      12\n",
            "2292.0       12\n",
            "2238.0       12\n",
            "20783.0      10\n",
            "4493.0        9\n",
            "1362.0        9\n",
            "20019.0       9\n",
            "5889.0        9\n",
            "913.0         8\n",
            "13022.0       8\n",
            "13524.0       8\n",
            "116.0         7\n",
            "105780.0      7\n",
            "2475.0        7\n",
            "32226.0       7\n",
            "6257.0        7\n",
            "1645.0        7\n",
            "3.0           7\n",
            "67.0          6\n",
            "1934.0        6\n",
            "480.0         6\n",
            "65378.0       6\n",
            "8837.0        6\n",
            "42171.0       6\n",
            "3200.0        6\n",
            "3943.0        6\n",
            "1475.0        6\n",
            "14124.0       5\n",
            "378965.0      5\n",
            "211.0         5\n",
            "438.0         5\n",
            "3044.0        5\n",
            "932.0         5\n",
            "10159.0       5\n",
            "114560.0      5\n",
            "49965.0       5\n",
            "705.0         5\n",
            "3389.0        5\n",
            "3617.0        5\n",
            "41755.0       4\n",
            "1162.0        4\n",
            "1773.0        4\n",
            "4531.0        4\n",
            "81453.0       4\n",
            "62.0          4\n",
            "214.0         4\n",
            "16324.0       4\n",
            "113220.0      4\n",
            "4385.0        4\n",
            "2120.0        4\n",
            "55454.0       4\n",
            "70.0          4\n",
            "29791.0       4\n",
            "164.0         3\n",
            "231.0         3\n",
            "30022.0       3\n",
            "41079.0       3\n",
            "3607.0        3\n",
            "23112.0       3\n",
            "18098.0       3\n",
            "399.0         3\n",
            "70786.0       3\n",
            "27.0          3\n",
            "368.0         3\n",
            "58853.0       3\n",
            "220.0         2\n",
            "61183.0       2\n",
            "25.0          2\n",
            "5793.0        2\n",
            "3564.0        2\n",
            "130692.0      2\n",
            "9068.0        2\n",
            "836987.0      2\n",
            "14011.0       2\n",
            "3101.0        2\n",
            "43055.0       2\n",
            "3540.0        2\n",
            "10424.0       2\n",
            "20.0          2\n",
            "653.0         2\n",
            "7823.0        2\n",
            "31840.0       2\n",
            "25186.0       2\n",
            "11.0          2\n",
            "39.0          2\n",
            "123.0         2\n",
            "1676.0        2\n",
            "83.0          2\n",
            "392.0         2\n",
            "676.0         2\n",
            "6615.0        2\n",
            "4487.0        2\n",
            "110360.0      2\n",
            "40745.0       2\n",
            "38112.0       2\n",
            "88813.0       2\n",
            "819.0         2\n",
            "302.0         2\n",
            "108661.0      2\n",
            "38.0          1\n",
            "95.0          1\n",
            "2657.0        1\n",
            "37730.0       1\n",
            "74741.0       1\n",
            "1453.0        1\n",
            "90233.0       1\n",
            "627.0         1\n",
            "133149.0      1\n",
            "1353.0        1\n",
            "2301.0        1\n",
            "17538.0       1\n",
            "1487.0        1\n",
            "13457.0       1\n",
            "1341.0        1\n",
            "70467.0       1\n",
            "7653.0        1\n",
            "1411.0        1\n",
            "367.0         1\n",
            "64739.0       1\n",
            "37295.0       1\n",
            "573.0         1\n",
            "17359.0       1\n",
            "27612.0       1\n",
            "350.0         1\n",
            "162.0         1\n",
            "15365.0       1\n",
            "1538.0        1\n",
            "22782.0       1\n",
            "21.0          1\n",
            "36141.0       1\n",
            "4965.0        1\n",
            "924.0         1\n",
            "7726.0        1\n",
            "3867.0        1\n",
            "93920.0       1\n",
            "1810.0        1\n",
            "99760.0       1\n",
            "37.0          1\n",
            "9676.0        1\n",
            "5260.0        1\n",
            "2679.0        1\n",
            "36199.0       1\n",
            "9314.0        1\n",
            "1790.0        1\n",
            "24151.0       1\n",
            "Name: Previous_Company_Employess_On_Linkedin, dtype: int64\n",
            "8997155.0     146\n",
            "574030.0      115\n",
            "1669846.0      96\n",
            "297984.0       48\n",
            "116198.0       38\n",
            "933359.0       35\n",
            "37790.0        30\n",
            "18716.0        27\n",
            "22055.0        25\n",
            "87448.0        24\n",
            "223485.0       24\n",
            "94355.0        21\n",
            "586606.0       20\n",
            "26232.0        19\n",
            "190904.0       18\n",
            "229484.0       17\n",
            "179499.0       16\n",
            "9505.0         16\n",
            "1968064.0      15\n",
            "6596.0         15\n",
            "66010.0        14\n",
            "5555273.0      14\n",
            "17436.0        14\n",
            "1543784.0      13\n",
            "209.0          13\n",
            "465685.0       13\n",
            "26545.0        13\n",
            "69885.0        12\n",
            "688404.0       12\n",
            "9983.0         11\n",
            "637467.0       10\n",
            "190669.0        9\n",
            "47400.0         9\n",
            "64929.0         9\n",
            "118199.0        9\n",
            "54686.0         8\n",
            "270374.0        8\n",
            "12539.0         8\n",
            "19907.0         8\n",
            "11886.0         7\n",
            "1234080.0       7\n",
            "135273.0        7\n",
            "47172.0         7\n",
            "742.0           7\n",
            "57188.0         7\n",
            "233155.0        7\n",
            "405586.0        6\n",
            "276557.0        6\n",
            "155515.0        6\n",
            "11008.0         6\n",
            "174347.0        6\n",
            "230947.0        6\n",
            "75715.0         6\n",
            "49942.0         6\n",
            "147395.0        6\n",
            "97549.0         5\n",
            "4336621.0       5\n",
            "1231871.0       5\n",
            "110877.0        5\n",
            "253475.0        5\n",
            "17769.0         5\n",
            "173891.0        5\n",
            "9145.0          5\n",
            "256685.0        5\n",
            "12242.0         5\n",
            "17461.0         5\n",
            "778150.0        5\n",
            "14606.0         5\n",
            "21507.0         4\n",
            "4294.0          4\n",
            "5460.0          4\n",
            "1204570.0       4\n",
            "3672828.0       4\n",
            "75396.0         4\n",
            "108579.0        4\n",
            "13642.0         4\n",
            "3789662.0       4\n",
            "115250.0        4\n",
            "48741.0         4\n",
            "24929.0         4\n",
            "523196.0        4\n",
            "8497269.0       4\n",
            "256669.0        4\n",
            "354817.0        3\n",
            "1701149.0       3\n",
            "2464.0          3\n",
            "544362.0        3\n",
            "7288554.0       3\n",
            "15908.0         3\n",
            "282035.0        3\n",
            "20943.0         3\n",
            "273005.0        3\n",
            "1263981.0       3\n",
            "8360.0          3\n",
            "16874.0         3\n",
            "6387743.0       2\n",
            "140259.0        2\n",
            "12432.0         2\n",
            "20164.0         2\n",
            "2888223.0       2\n",
            "133500.0        2\n",
            "5427.0          2\n",
            "60016.0         2\n",
            "30683137.0      2\n",
            "6335.0          2\n",
            "29393.0         2\n",
            "948351.0        2\n",
            "179605.0        2\n",
            "230992.0        2\n",
            "70182.0         2\n",
            "13533.0         2\n",
            "169030.0        2\n",
            "1502440.0       2\n",
            "694257.0        2\n",
            "1281.0          2\n",
            "6858.0          2\n",
            "15193.0         2\n",
            "33986.0         2\n",
            "868.0           2\n",
            "16614.0         2\n",
            "355477.0        2\n",
            "80597.0         2\n",
            "326063.0        2\n",
            "3255775.0       2\n",
            "4130796.0       2\n",
            "2767634.0       2\n",
            "2619179.0       2\n",
            "30716.0         2\n",
            "292199.0        2\n",
            "73474.0         2\n",
            "87778.0         1\n",
            "231028.0        1\n",
            "4080.0          1\n",
            "54189.0         1\n",
            "31184.0         1\n",
            "202134.0        1\n",
            "1355480.0       1\n",
            "16610.0         1\n",
            "19479.0         1\n",
            "34148.0         1\n",
            "4586.0          1\n",
            "3873047.0       1\n",
            "2982041.0       1\n",
            "5422781.0       1\n",
            "16984.0         1\n",
            "204908.0        1\n",
            "232431.0        1\n",
            "57014.0         1\n",
            "31964.0         1\n",
            "298600.0        1\n",
            "90461.0         1\n",
            "409611.0        1\n",
            "45486.0         1\n",
            "33744.0         1\n",
            "30341.0         1\n",
            "77923.0         1\n",
            "7146554.0       1\n",
            "27161.0         1\n",
            "392982.0        1\n",
            "5583.0          1\n",
            "268551.0        1\n",
            "3462.0          1\n",
            "33924.0         1\n",
            "577898.0        1\n",
            "111439.0        1\n",
            "23529.0         1\n",
            "167580.0        1\n",
            "1353973.0       1\n",
            "2116825.0       1\n",
            "6149.0          1\n",
            "236256.0        1\n",
            "149061.0        1\n",
            "62597.0         1\n",
            "271433.0        1\n",
            "1149651.0       1\n",
            "35502.0         1\n",
            "419882.0        1\n",
            "Name: Previous_Company_Followers, dtype: int64\n",
            "0    1028\n",
            "1     328\n",
            "Name: Previous_Company_Parent_Cmp_exist, dtype: int64\n",
            "0    1011\n",
            "1     345\n",
            "Name: Previous_Company_Forbes, dtype: int64\n",
            "8.0     664\n",
            "9.0     357\n",
            "7.0     115\n",
            "10.0     72\n",
            "6.0      21\n",
            "4.0      10\n",
            "5.0       2\n",
            "3.0       1\n",
            "Name: Previous_Company_Average_NPS, dtype: int64\n",
            "25.0      13\n",
            "22.0      12\n",
            "6.0       12\n",
            "8.0       11\n",
            "4.0       11\n",
            "          ..\n",
            "144.0      1\n",
            "1052.0     1\n",
            "2262.0     1\n",
            "385.0      1\n",
            "370.0      1\n",
            "Name: Communication_intensity, Length: 629, dtype: int64\n",
            "2.0    616\n",
            "1.0    320\n",
            "3.0    287\n",
            "4.0     63\n",
            "5.0     28\n",
            "6.0      4\n",
            "Name: Engagement_Duration_Epam, dtype: int64\n",
            "4.0      124\n",
            "5.0      124\n",
            "3.0      122\n",
            "6.0      108\n",
            "7.0       99\n",
            "2.0       74\n",
            "9.0       71\n",
            "11.0      63\n",
            "1.0       52\n",
            "8.0       48\n",
            "10.0      48\n",
            "13.0      36\n",
            "14.0      36\n",
            "12.0      30\n",
            "17.0      27\n",
            "15.0      25\n",
            "19.0      24\n",
            "16.0      23\n",
            "25.0      15\n",
            "18.0      15\n",
            "24.0      14\n",
            "20.0      14\n",
            "21.0      13\n",
            "23.0      12\n",
            "22.0      11\n",
            "30.0       7\n",
            "33.0       6\n",
            "31.0       5\n",
            "42.0       5\n",
            "26.0       5\n",
            "34.0       4\n",
            "35.0       4\n",
            "32.0       4\n",
            "27.0       4\n",
            "28.0       4\n",
            "44.0       3\n",
            "37.0       3\n",
            "56.0       2\n",
            "58.0       2\n",
            "63.0       2\n",
            "29.0       2\n",
            "53.0       2\n",
            "36.0       2\n",
            "40.0       2\n",
            "46.0       2\n",
            "41.0       2\n",
            "70.0       2\n",
            "78.0       1\n",
            "48.0       1\n",
            "86.0       1\n",
            "129.0      1\n",
            "38.0       1\n",
            "47.0       1\n",
            "57.0       1\n",
            "66.0       1\n",
            "55.0       1\n",
            "84.0       1\n",
            "54.0       1\n",
            "69.0       1\n",
            "152.0      1\n",
            "81.0       1\n",
            "82.0       1\n",
            "100.0      1\n",
            "Name: Engegement_Cnt_Epam, dtype: int64\n",
            "2017.0    571\n",
            "2018.0    289\n",
            "2019.0    187\n",
            "2020.0    179\n",
            "2021.0     84\n",
            "2022.0      8\n",
            "Name: First_engagement_year, dtype: int64\n",
            "B        1154\n",
            "A          92\n",
            "C          72\n",
            "Other      38\n",
            "Name: Seniority_Level_Of_Epam, dtype: int64\n",
            "0.0    1246\n",
            "1.0      61\n",
            "2.0       8\n",
            "4.0       2\n",
            "3.0       1\n",
            "Name: Engegement_Cnt_Epam_C_track, dtype: int64\n",
            "0.0      1246\n",
            "3.0        10\n",
            "4.0         9\n",
            "2.0         6\n",
            "5.0         6\n",
            "7.0         5\n",
            "10.0        3\n",
            "6.0         3\n",
            "26.0        2\n",
            "20.0        2\n",
            "18.0        2\n",
            "12.0        2\n",
            "11.0        2\n",
            "45.0        1\n",
            "35.0        1\n",
            "30.0        1\n",
            "119.0       1\n",
            "27.0        1\n",
            "66.0        1\n",
            "31.0        1\n",
            "58.0        1\n",
            "13.0        1\n",
            "78.0        1\n",
            "65.0        1\n",
            "21.0        1\n",
            "145.0       1\n",
            "74.0        1\n",
            "44.0        1\n",
            "9.0         1\n",
            "38.0        1\n",
            "83.0        1\n",
            "23.0        1\n",
            "40.0        1\n",
            "Name: Engegement_Cnt_Epam_C_track_CommIntens, dtype: int64\n",
            "Procore Technologies               10\n",
            "C2FO                                8\n",
            "Experian                            7\n",
            "Netsmart                            6\n",
            "Intel Corporation                   6\n",
            "                                   ..\n",
            "Zuora                               1\n",
            "Kaiser Permanente                   1\n",
            "Bullhorn                            1\n",
            "Warby Parker                        1\n",
            "Warwick Capital Management Ltd.     1\n",
            "Name: Current_Company, Length: 1069, dtype: int64\n",
            "10001+        333\n",
            "1001-5000     312\n",
            "51-200        188\n",
            "201-500       142\n",
            "Other         138\n",
            "501-1000      137\n",
            "5001-10000    106\n",
            "Name: Current_Company_Size, dtype: int64\n",
            "3906.0     10\n",
            "824.0       9\n",
            "36383.0     7\n",
            "28.0        7\n",
            "4468.0      7\n",
            "           ..\n",
            "206.0       1\n",
            "140.0       1\n",
            "3790.0      1\n",
            "16185.0     1\n",
            "21673.0     1\n",
            "Name: Current_Company_Employess_On_Linkedin, Length: 830, dtype: int64\n",
            "186714.0     10\n",
            "35429.0       8\n",
            "333617.0      7\n",
            "328568.0      7\n",
            "3300341.0     6\n",
            "             ..\n",
            "4406.0        1\n",
            "2027.0        1\n",
            "3402445.0     1\n",
            "48191.0       1\n",
            "167.0         1\n",
            "Name: Current_Company_Followers, Length: 1023, dtype: int64\n",
            "TIER 1    701\n",
            "TIER 3    464\n",
            "TIER 2    183\n",
            "Name: Current_Company_Tier, dtype: int64\n",
            "0    1250\n",
            "1     106\n",
            "Name: Current_Company_Parent_Cmp_exist, dtype: int64\n",
            "ISV                  512\n",
            "FS                   179\n",
            "CPG                  102\n",
            "HC                    91\n",
            "Hi-Tech               84\n",
            "T&H                   80\n",
            "Other                 76\n",
            "MFG                   56\n",
            "M&E                   43\n",
            "LS                    39\n",
            "INS                   38\n",
            "EDU                   18\n",
            "Oil&Gas/Utilities      9\n",
            "Name: Current_Company_Industry_EPAM, dtype: int64\n",
            "5.0         98\n",
            "1000.0      32\n",
            "2000.0      20\n",
            "12.0        14\n",
            "1.0         14\n",
            "            ..\n",
            "3629.0       1\n",
            "3.2          1\n",
            "1816.859     1\n",
            "13900.0      1\n",
            "51199.0      1\n",
            "Name: Current_Company_Rev, Length: 727, dtype: int64\n",
            "0    1220\n",
            "1     136\n",
            "Name: Current_Company_Forbes, dtype: int64\n"
          ]
        }
      ]
    },
    {
      "cell_type": "code",
      "source": [
        "data[\"LeadGen\"]=data[\"LeadGen\"].astype(int)"
      ],
      "metadata": {
        "id": "HOnflKWMjtc2"
      },
      "execution_count": 22,
      "outputs": []
    },
    {
      "cell_type": "code",
      "source": [
        "data[\"LinkedIn_Follower_Count\"]=data[\"LinkedIn_Follower_Count\"].astype(float)"
      ],
      "metadata": {
        "id": "vT9RBT08Oes_"
      },
      "execution_count": 23,
      "outputs": []
    },
    {
      "cell_type": "code",
      "source": [
        "data[\"Linkedin_Connection_Count\"]=data[\"Linkedin_Connection_Count\"].astype(float)"
      ],
      "metadata": {
        "id": "0VZ_N8a0OeqW"
      },
      "execution_count": 24,
      "outputs": []
    },
    {
      "cell_type": "code",
      "source": [
        "data[\"Previous_Company_Employess_On_Linkedin\"]=data[\"Previous_Company_Employess_On_Linkedin\"].astype(float)"
      ],
      "metadata": {
        "id": "oLhR9zNzOenz"
      },
      "execution_count": 25,
      "outputs": []
    },
    {
      "cell_type": "code",
      "source": [
        "data[\"Previous_Company_Followers\"]=data[\"Previous_Company_Followers\"].astype(float)"
      ],
      "metadata": {
        "id": "HE7ElbSzOelK"
      },
      "execution_count": 26,
      "outputs": []
    },
    {
      "cell_type": "code",
      "source": [
        "data[\"Previous_Company_Parent_Cmp_exist\"]=data[\"Previous_Company_Parent_Cmp_exist\"].astype(int)"
      ],
      "metadata": {
        "id": "GUuIbjEWOegL"
      },
      "execution_count": 27,
      "outputs": []
    },
    {
      "cell_type": "code",
      "source": [
        "data[\"Current_Company_Employess_On_Linkedin\"]=data[\"Current_Company_Employess_On_Linkedin\"].astype(float)"
      ],
      "metadata": {
        "id": "ZqDi8LBAOedp"
      },
      "execution_count": 28,
      "outputs": []
    },
    {
      "cell_type": "code",
      "source": [
        "data[\"Current_Company_Followers\"]=data[\"Current_Company_Followers\"].astype(float)"
      ],
      "metadata": {
        "id": "A9y740yAOebO"
      },
      "execution_count": 29,
      "outputs": []
    },
    {
      "cell_type": "code",
      "source": [
        "data[\"Current_Company_Rev\"]=data[\"Current_Company_Rev\"].astype(float)"
      ],
      "metadata": {
        "id": "BWjJk_vtOeYl"
      },
      "execution_count": 30,
      "outputs": []
    },
    {
      "cell_type": "code",
      "source": [
        "data[\"Current_Company_Parent_Cmp_exist\"]=data[\"Current_Company_Parent_Cmp_exist\"].astype(int)"
      ],
      "metadata": {
        "id": "g8u4B91kOeVx"
      },
      "execution_count": 31,
      "outputs": []
    },
    {
      "cell_type": "code",
      "source": [
        "data[\"Engegement_Cnt_Epam\"]=data[\"Engegement_Cnt_Epam\"].astype(float)"
      ],
      "metadata": {
        "id": "UB48rL7DOeSe"
      },
      "execution_count": 32,
      "outputs": []
    },
    {
      "cell_type": "code",
      "source": [
        "data[\"Communication_intensity\"]=data[\"Communication_intensity\"].astype(float)"
      ],
      "metadata": {
        "id": "MAfQ7_e8OePy"
      },
      "execution_count": 33,
      "outputs": []
    },
    {
      "cell_type": "code",
      "source": [
        "data[\"Engagement_Duration_Epam\"]=data[\"Engagement_Duration_Epam\"].astype(float)"
      ],
      "metadata": {
        "id": "IxxIT_YRPTle"
      },
      "execution_count": 34,
      "outputs": []
    },
    {
      "cell_type": "code",
      "source": [
        "data[\"Engegement_Cnt_Epam_C_track_CommIntens\"]=data[\"Engegement_Cnt_Epam_C_track_CommIntens\"].astype(float)"
      ],
      "metadata": {
        "id": "w3TJuOTaPT_Y"
      },
      "execution_count": 35,
      "outputs": []
    },
    {
      "cell_type": "code",
      "source": [
        "data[\"Engegement_Cnt_Epam_C_track\"]=data[\"Engegement_Cnt_Epam_C_track\"].astype(float)"
      ],
      "metadata": {
        "id": "G5A30lJBPUE6"
      },
      "execution_count": 36,
      "outputs": []
    },
    {
      "cell_type": "code",
      "source": [
        "data[\"Previous_Company_Forbes\"]=data[\"Previous_Company_Forbes\"].astype(int)"
      ],
      "metadata": {
        "id": "Mo7O84yGQDPw"
      },
      "execution_count": 37,
      "outputs": []
    },
    {
      "cell_type": "code",
      "source": [
        "data[\"Current_Company_Forbes\"]=data[\"Current_Company_Forbes\"].astype(int)"
      ],
      "metadata": {
        "id": "DEGpa9TGQDNU"
      },
      "execution_count": 38,
      "outputs": []
    },
    {
      "cell_type": "code",
      "source": [
        "data[\"Previous_Company_Average_NPS\"]=data[\"Previous_Company_Average_NPS\"].astype(float)"
      ],
      "metadata": {
        "id": "ZcpFiQR-QDIM"
      },
      "execution_count": 39,
      "outputs": []
    },
    {
      "cell_type": "code",
      "source": [
        "data[\"First_engagement_year\"]=data[\"First_engagement_year\"].astype(float)"
      ],
      "metadata": {
        "id": "liUjNsj6SK37"
      },
      "execution_count": 40,
      "outputs": []
    },
    {
      "cell_type": "code",
      "source": [
        "num_cols=data.select_dtypes(include=np.number).columns.tolist()"
      ],
      "metadata": {
        "id": "axnXeZ0AkTiH"
      },
      "execution_count": 41,
      "outputs": []
    },
    {
      "cell_type": "code",
      "source": [
        "num_cols"
      ],
      "metadata": {
        "id": "LD7CbUpOlTjX",
        "outputId": "e18bfe25-223b-40f1-b03d-290f3a8ffb6b",
        "colab": {
          "base_uri": "https://localhost:8080/"
        }
      },
      "execution_count": 42,
      "outputs": [
        {
          "output_type": "execute_result",
          "data": {
            "text/plain": [
              "['LeadGen',\n",
              " 'LinkedIn_Follower_Count',\n",
              " 'Linkedin_Connection_Count',\n",
              " 'Previous_Company_Employess_On_Linkedin',\n",
              " 'Previous_Company_Followers',\n",
              " 'Previous_Company_Parent_Cmp_exist',\n",
              " 'Previous_Company_Forbes',\n",
              " 'Previous_Company_Average_NPS',\n",
              " 'Communication_intensity',\n",
              " 'Engagement_Duration_Epam',\n",
              " 'Engegement_Cnt_Epam',\n",
              " 'First_engagement_year',\n",
              " 'Engegement_Cnt_Epam_C_track',\n",
              " 'Engegement_Cnt_Epam_C_track_CommIntens',\n",
              " 'Current_Company_Employess_On_Linkedin',\n",
              " 'Current_Company_Followers',\n",
              " 'Current_Company_Parent_Cmp_exist',\n",
              " 'Current_Company_Rev',\n",
              " 'Current_Company_Forbes']"
            ]
          },
          "metadata": {},
          "execution_count": 42
        }
      ]
    },
    {
      "cell_type": "code",
      "source": [
        "cat_cols = [\n",
        "\"LeadGen\",\n",
        "\"Previous_Seniority_Level\",\n",
        "\"Current_Seniority_Level\",\n",
        "\"Previous_Company_Size\",\n",
        "\"Previous_Company_Industry_EPAM\",\n",
        "\"Previous_Company_Parent_Cmp_exist\",\n",
        "\"Previous_Company_Forbes\",\n",
        "\"First_engagement_year\",\n",
        "\"Seniority_Level_Of_Epam\",\n",
        "\"Current_Company_Size\",\n",
        "\"Current_Company_Tier\",\n",
        "\"Current_Company_Parent_Cmp_exist\",\n",
        "\"Current_Company_Industry_EPAM\",\n",
        "\"Current_Company_Forbes\",\n",
        "\n",
        "]\n",
        "data[cat_cols] = data[cat_cols].astype(\"category\")"
      ],
      "metadata": {
        "id": "INlIw6MtW9RJ"
      },
      "execution_count": 62,
      "outputs": []
    },
    {
      "cell_type": "markdown",
      "source": [
        "##3-DATA PREPROSESSING"
      ],
      "metadata": {
        "id": "fkNxph76RbPj"
      }
    },
    {
      "cell_type": "code",
      "source": [
        "data_pre_process=data.copy()"
      ],
      "metadata": {
        "id": "RZCsOZAoPU0W"
      },
      "execution_count": 63,
      "outputs": []
    },
    {
      "cell_type": "code",
      "source": [
        "Seniority_Level={\"A\":3,\"B\":2,\"C\":1,\"Other\":0}"
      ],
      "metadata": {
        "id": "BsTeMwPXHcNl"
      },
      "execution_count": 64,
      "outputs": []
    },
    {
      "cell_type": "code",
      "source": [
        "\n",
        "data_pre_process[\"Previous_Seniority_Level\"] = data_pre_process[\"Previous_Seniority_Level\"].map(Seniority_Level)"
      ],
      "metadata": {
        "id": "umUt7d19HcG1"
      },
      "execution_count": 65,
      "outputs": []
    },
    {
      "cell_type": "code",
      "source": [
        "data_pre_process[\"Current_Seniority_Level\"] = data_pre_process[\"Current_Seniority_Level\"].map(Seniority_Level)"
      ],
      "metadata": {
        "id": "2wUOjs-OHcDP"
      },
      "execution_count": 66,
      "outputs": []
    },
    {
      "cell_type": "code",
      "source": [
        "data_pre_process[\"Seniority_Level_Of_Epam\"] = data_pre_process[\"Seniority_Level_Of_Epam\"].map(Seniority_Level)"
      ],
      "metadata": {
        "id": "4aLsB5YXNL00"
      },
      "execution_count": 67,
      "outputs": []
    },
    {
      "cell_type": "code",
      "source": [
        "Size_1=[\"Other\",\"51-200\"]"
      ],
      "metadata": {
        "id": "ZEHS_55VlKTV"
      },
      "execution_count": 68,
      "outputs": []
    },
    {
      "cell_type": "code",
      "source": [
        "Size_2=[\"201-500\",\"501-1000\"]"
      ],
      "metadata": {
        "id": "u9GWOFXhlU22"
      },
      "execution_count": 69,
      "outputs": []
    },
    {
      "cell_type": "code",
      "source": [
        "Size_3=[\"1001-5000\",\"5001-10000\",\"10001+\"]"
      ],
      "metadata": {
        "id": "xB6iTBZdliJd"
      },
      "execution_count": 70,
      "outputs": []
    },
    {
      "cell_type": "code",
      "source": [
        "def reduce_company_size(x):\n",
        "    if x in Size_1:\n",
        "        return \"Size_1\"\n",
        "    elif x in Size_2:\n",
        "        return \"Size_2\"\n",
        "    elif x in Size_3:\n",
        "        return \"Size_3\"\n",
        "    else:\n",
        "        return x"
      ],
      "metadata": {
        "id": "gP6Jq2JNlFvW"
      },
      "execution_count": 71,
      "outputs": []
    },
    {
      "cell_type": "code",
      "source": [
        "data_pre_process.Previous_Company_Size=data_pre_process.Previous_Company_Size.apply(reduce_company_size)"
      ],
      "metadata": {
        "id": "rQx697FFj3-0"
      },
      "execution_count": 72,
      "outputs": []
    },
    {
      "cell_type": "code",
      "source": [
        "data_pre_process.Current_Company_Size=data_pre_process.Current_Company_Size.apply(reduce_company_size)"
      ],
      "metadata": {
        "id": "YI0XfbHomUgl"
      },
      "execution_count": 73,
      "outputs": []
    },
    {
      "cell_type": "code",
      "source": [
        "data_pre_process[\"Previous_Company_Size\"]"
      ],
      "metadata": {
        "id": "ZpxXlcU9JxDF",
        "colab": {
          "base_uri": "https://localhost:8080/"
        },
        "outputId": "cac4132a-d312-456c-a963-1f499012017f"
      },
      "execution_count": 74,
      "outputs": [
        {
          "output_type": "execute_result",
          "data": {
            "text/plain": [
              "0       Size_3\n",
              "1       Size_3\n",
              "2       Size_3\n",
              "3       Size_3\n",
              "4       Size_3\n",
              "         ...  \n",
              "1351    Size_3\n",
              "1352    Size_3\n",
              "1353    Size_1\n",
              "1354    Size_1\n",
              "1355    Size_3\n",
              "Name: Previous_Company_Size, Length: 1356, dtype: object"
            ]
          },
          "metadata": {},
          "execution_count": 74
        }
      ]
    },
    {
      "cell_type": "code",
      "source": [
        "data_pre_process[\"Current_Company_Size\"]"
      ],
      "metadata": {
        "id": "WPPsALYBJw_V",
        "colab": {
          "base_uri": "https://localhost:8080/"
        },
        "outputId": "762d1a46-28b3-4020-edb3-9d738f0d6615"
      },
      "execution_count": 75,
      "outputs": [
        {
          "output_type": "execute_result",
          "data": {
            "text/plain": [
              "0       Size_3\n",
              "1       Size_3\n",
              "2       Size_3\n",
              "3       Size_3\n",
              "4       Size_3\n",
              "         ...  \n",
              "1351    Size_3\n",
              "1352    Size_3\n",
              "1353    Size_2\n",
              "1354    Size_1\n",
              "1355    Size_3\n",
              "Name: Current_Company_Size, Length: 1356, dtype: object"
            ]
          },
          "metadata": {},
          "execution_count": 75
        }
      ]
    },
    {
      "cell_type": "code",
      "source": [
        "print(data_pre_process.Previous_Seniority_Level.value_counts())"
      ],
      "metadata": {
        "colab": {
          "base_uri": "https://localhost:8080/"
        },
        "id": "z59MeEfqLLh2",
        "outputId": "14c047ce-120b-434b-fb6c-1d6211c2b4d9"
      },
      "execution_count": 76,
      "outputs": [
        {
          "output_type": "stream",
          "name": "stdout",
          "text": [
            "2    546\n",
            "1    433\n",
            "3    311\n",
            "0     66\n",
            "Name: Previous_Seniority_Level, dtype: int64\n"
          ]
        }
      ]
    },
    {
      "cell_type": "code",
      "source": [
        "print(data_pre_process.Current_Company_Size.value_counts())"
      ],
      "metadata": {
        "colab": {
          "base_uri": "https://localhost:8080/"
        },
        "id": "BkVCIzxGRRPO",
        "outputId": "170596c6-05aa-47cb-8415-7b988ebe1cae"
      },
      "execution_count": 77,
      "outputs": [
        {
          "output_type": "stream",
          "name": "stdout",
          "text": [
            "Size_3    751\n",
            "Size_1    326\n",
            "Size_2    279\n",
            "Name: Current_Company_Size, dtype: int64\n"
          ]
        }
      ]
    },
    {
      "cell_type": "code",
      "source": [
        "round(data_pre_process.isnull().sum() / data_pre_process.isnull().count() * 100, 2)"
      ],
      "metadata": {
        "colab": {
          "base_uri": "https://localhost:8080/"
        },
        "id": "S4Py5hcRPAya",
        "outputId": "4ca9ac3a-1d2f-40cf-ed37-9bec9c03c1d0"
      },
      "execution_count": 78,
      "outputs": [
        {
          "output_type": "execute_result",
          "data": {
            "text/plain": [
              "LeadGen                                   0.00\n",
              "LinkedIn_Profile                          0.00\n",
              "LinkedIn_Follower_Count                   3.69\n",
              "Linkedin_Connection_Count                 3.76\n",
              "Full_Name                                 0.00\n",
              "Searched_Email                            0.00\n",
              "Previous_Seniority_Level                  0.00\n",
              "Current_Seniority_Level                   0.00\n",
              "Previous_Company                          0.00\n",
              "Previous_Company_Size                     0.00\n",
              "Previous_Company_Industry_EPAM            0.22\n",
              "Previous_Company_Employess_On_Linkedin    1.55\n",
              "Previous_Company_Followers                0.22\n",
              "Previous_Company_Parent_Cmp_exist         0.00\n",
              "Previous_Company_Forbes                   0.00\n",
              "Previous_Company_Average_NPS              8.41\n",
              "Communication_intensity                   2.80\n",
              "Engagement_Duration_Epam                  2.80\n",
              "Engegement_Cnt_Epam                       2.80\n",
              "First_engagement_year                     2.80\n",
              "Seniority_Level_Of_Epam                   0.00\n",
              "Engegement_Cnt_Epam_C_track               2.80\n",
              "Engegement_Cnt_Epam_C_track_CommIntens    2.80\n",
              "Current_Company                           0.00\n",
              "Current_Company_Size                      0.00\n",
              "Current_Company_Employess_On_Linkedin     4.65\n",
              "Current_Company_Followers                 1.92\n",
              "Current_Company_Tier                      0.59\n",
              "Current_Company_Parent_Cmp_exist          0.00\n",
              "Current_Company_Industry_EPAM             2.14\n",
              "Current_Company_Rev                       1.70\n",
              "Current_Company_Forbes                    0.00\n",
              "dtype: float64"
            ]
          },
          "metadata": {},
          "execution_count": 78
        }
      ]
    },
    {
      "cell_type": "code",
      "source": [
        "data_pre_process[\"Previous_Company_Industry_EPAM\"]"
      ],
      "metadata": {
        "id": "d3tWoPq4xZZv",
        "outputId": "d430ce7b-3232-4928-8585-9d0eb66b7cc5",
        "colab": {
          "base_uri": "https://localhost:8080/"
        }
      },
      "execution_count": 79,
      "outputs": [
        {
          "output_type": "execute_result",
          "data": {
            "text/plain": [
              "0            FS\n",
              "1            FS\n",
              "2            FS\n",
              "3            FS\n",
              "4            FS\n",
              "         ...   \n",
              "1351    Hi-Tech\n",
              "1352    Hi-Tech\n",
              "1353        NaN\n",
              "1354        NaN\n",
              "1355      Other\n",
              "Name: Previous_Company_Industry_EPAM, Length: 1356, dtype: category\n",
              "Categories (13, object): ['CPG', 'EDU', 'FS', 'HC', ..., 'MFG', 'Oil&Gas/Utilities', 'Other', 'T&H']"
            ]
          },
          "metadata": {},
          "execution_count": 79
        }
      ]
    },
    {
      "cell_type": "code",
      "source": [
        "def calculate_existence_ratio(data, column):\n",
        "    value_counts = data[column].value_counts()\n",
        "    total_count = data[column].count()\n",
        "    existence_ratio = value_counts / total_count\n",
        "    return existence_ratio"
      ],
      "metadata": {
        "id": "2hUNYzLOe009"
      },
      "execution_count": 80,
      "outputs": []
    },
    {
      "cell_type": "code",
      "source": [
        "existence_ratio = calculate_existence_ratio(data_pre_process, \"Previous_Company_Industry_EPAM\")"
      ],
      "metadata": {
        "id": "1UW3sibDe2sm"
      },
      "execution_count": 81,
      "outputs": []
    },
    {
      "cell_type": "code",
      "source": [
        "existence_ratio"
      ],
      "metadata": {
        "id": "BLnJ4cB5e2i_",
        "outputId": "76fa018a-ad76-4983-f5cd-73a3b2479cc8",
        "colab": {
          "base_uri": "https://localhost:8080/"
        }
      },
      "execution_count": 82,
      "outputs": [
        {
          "output_type": "execute_result",
          "data": {
            "text/plain": [
              "ISV                  0.381375\n",
              "T&H                  0.176644\n",
              "CPG                  0.118995\n",
              "M&E                  0.062823\n",
              "FS                   0.045824\n",
              "HC                   0.040650\n",
              "Hi-Tech              0.036955\n",
              "MFG                  0.035477\n",
              "Other                0.035477\n",
              "LS                   0.033259\n",
              "EDU                  0.014043\n",
              "INS                  0.011086\n",
              "Oil&Gas/Utilities    0.007391\n",
              "Name: Previous_Company_Industry_EPAM, dtype: float64"
            ]
          },
          "metadata": {},
          "execution_count": 82
        }
      ]
    },
    {
      "cell_type": "code",
      "source": [
        "existence_ratio = calculate_existence_ratio(data_pre_process, \"Current_Company_Industry_EPAM\")"
      ],
      "metadata": {
        "id": "2vVR1akgg0ka"
      },
      "execution_count": 83,
      "outputs": []
    },
    {
      "cell_type": "code",
      "source": [
        "existence_ratio"
      ],
      "metadata": {
        "id": "sxp1AxQUg3Xw",
        "outputId": "f4f20fc8-6c96-4b3c-bbdf-81fbf8d8e6a8",
        "colab": {
          "base_uri": "https://localhost:8080/"
        }
      },
      "execution_count": 84,
      "outputs": [
        {
          "output_type": "execute_result",
          "data": {
            "text/plain": [
              "ISV                  0.385833\n",
              "FS                   0.134891\n",
              "CPG                  0.076865\n",
              "HC                   0.068576\n",
              "Hi-Tech              0.063301\n",
              "T&H                  0.060286\n",
              "Other                0.057272\n",
              "MFG                  0.042200\n",
              "M&E                  0.032404\n",
              "LS                   0.029390\n",
              "INS                  0.028636\n",
              "EDU                  0.013564\n",
              "Oil&Gas/Utilities    0.006782\n",
              "Name: Current_Company_Industry_EPAM, dtype: float64"
            ]
          },
          "metadata": {},
          "execution_count": 84
        }
      ]
    },
    {
      "cell_type": "code",
      "source": [
        "data_pre_process=data_pre_process.drop([\"LinkedIn_Profile\"],axis=1)"
      ],
      "metadata": {
        "id": "cklCY-Rra3QN"
      },
      "execution_count": 85,
      "outputs": []
    },
    {
      "cell_type": "code",
      "source": [
        "data_pre_process=data_pre_process.drop([\"Full_Name\"],axis=1)"
      ],
      "metadata": {
        "id": "LhvvOKnMbrQk"
      },
      "execution_count": 86,
      "outputs": []
    },
    {
      "cell_type": "code",
      "source": [
        "data_pre_process=data_pre_process.drop([\"Searched_Email\"],axis=1)"
      ],
      "metadata": {
        "id": "fsspB6_SbrOL"
      },
      "execution_count": 87,
      "outputs": []
    },
    {
      "cell_type": "code",
      "source": [
        "data_pre_process"
      ],
      "metadata": {
        "colab": {
          "base_uri": "https://localhost:8080/",
          "height": 592
        },
        "id": "LKjFl9VpbrLZ",
        "outputId": "ee1e186c-4844-422a-cb0d-6b7f7d53b664"
      },
      "execution_count": 88,
      "outputs": [
        {
          "output_type": "execute_result",
          "data": {
            "text/plain": [
              "     LeadGen  LinkedIn_Follower_Count  Linkedin_Connection_Count  \\\n",
              "0          1                   1210.0                     1220.0   \n",
              "1          1                    642.0                      629.0   \n",
              "2          1                    810.0                      808.0   \n",
              "3          1                   3892.0                     3899.0   \n",
              "4          0                    741.0                      738.0   \n",
              "...      ...                      ...                        ...   \n",
              "1351       1                    406.0                      407.0   \n",
              "1352       0                   1278.0                     1009.0   \n",
              "1353       0                    339.0                      339.0   \n",
              "1354       0                  18573.0                    17510.0   \n",
              "1355       1                    608.0                      612.0   \n",
              "\n",
              "     Previous_Seniority_Level Current_Seniority_Level     Previous_Company  \\\n",
              "0                           1                       3              Equifax   \n",
              "1                           1                       1              Equifax   \n",
              "2                           2                       2              Equifax   \n",
              "3                           1                       1              Equifax   \n",
              "4                           1                       1              Equifax   \n",
              "...                       ...                     ...                  ...   \n",
              "1351                        3                       3      GlobalFoundries   \n",
              "1352                        1                       1      GlobalFoundries   \n",
              "1353                        3                       3             Hehmeyer   \n",
              "1354                        1                       1             Hehmeyer   \n",
              "1355                        3                       3  Hilti North America   \n",
              "\n",
              "     Previous_Company_Size Previous_Company_Industry_EPAM  \\\n",
              "0                   Size_3                             FS   \n",
              "1                   Size_3                             FS   \n",
              "2                   Size_3                             FS   \n",
              "3                   Size_3                             FS   \n",
              "4                   Size_3                             FS   \n",
              "...                    ...                            ...   \n",
              "1351                Size_3                        Hi-Tech   \n",
              "1352                Size_3                        Hi-Tech   \n",
              "1353                Size_1                            NaN   \n",
              "1354                Size_1                            NaN   \n",
              "1355                Size_3                          Other   \n",
              "\n",
              "      Previous_Company_Employess_On_Linkedin  Previous_Company_Followers  \\\n",
              "0                                    14124.0                    173891.0   \n",
              "1                                    14124.0                    173891.0   \n",
              "2                                    14124.0                    173891.0   \n",
              "3                                    14124.0                    173891.0   \n",
              "4                                    14124.0                    173891.0   \n",
              "...                                      ...                         ...   \n",
              "1351                                 12750.0                    190904.0   \n",
              "1352                                 12750.0                    190904.0   \n",
              "1353                                     NaN                         NaN   \n",
              "1354                                     NaN                         NaN   \n",
              "1355                                 24151.0                    419882.0   \n",
              "\n",
              "     Previous_Company_Parent_Cmp_exist Previous_Company_Forbes  \\\n",
              "0                                    0                       1   \n",
              "1                                    0                       1   \n",
              "2                                    0                       1   \n",
              "3                                    0                       1   \n",
              "4                                    0                       1   \n",
              "...                                ...                     ...   \n",
              "1351                                 0                       1   \n",
              "1352                                 0                       1   \n",
              "1353                                 0                       0   \n",
              "1354                                 0                       0   \n",
              "1355                                 1                       0   \n",
              "\n",
              "      Previous_Company_Average_NPS  Communication_intensity  \\\n",
              "0                              8.0                     13.0   \n",
              "1                              8.0                    402.0   \n",
              "2                              8.0                   1892.0   \n",
              "3                              8.0                    132.0   \n",
              "4                              8.0                    176.0   \n",
              "...                            ...                      ...   \n",
              "1351                           8.0                     22.0   \n",
              "1352                           8.0                     67.0   \n",
              "1353                          10.0                     60.0   \n",
              "1354                          10.0                     57.0   \n",
              "1355                           NaN                    173.0   \n",
              "\n",
              "      Engagement_Duration_Epam  Engegement_Cnt_Epam First_engagement_year  \\\n",
              "0                          1.0                  2.0                2019.0   \n",
              "1                          1.0                 14.0                2019.0   \n",
              "2                          2.0                 24.0                2020.0   \n",
              "3                          2.0                  7.0                2019.0   \n",
              "4                          1.0                 11.0                2019.0   \n",
              "...                        ...                  ...                   ...   \n",
              "1351                       1.0                  3.0                2018.0   \n",
              "1352                       2.0                  3.0                2018.0   \n",
              "1353                       3.0                  4.0                2020.0   \n",
              "1354                       1.0                  3.0                2021.0   \n",
              "1355                       2.0                  3.0                2019.0   \n",
              "\n",
              "     Seniority_Level_Of_Epam  Engegement_Cnt_Epam_C_track  \\\n",
              "0                          1                          1.0   \n",
              "1                          2                          0.0   \n",
              "2                          2                          0.0   \n",
              "3                          2                          0.0   \n",
              "4                          1                          1.0   \n",
              "...                      ...                          ...   \n",
              "1351                       2                          0.0   \n",
              "1352                       2                          0.0   \n",
              "1353                       3                          0.0   \n",
              "1354                       2                          0.0   \n",
              "1355                       2                          0.0   \n",
              "\n",
              "      Engegement_Cnt_Epam_C_track_CommIntens                  Current_Company  \\\n",
              "0                                        3.0                          Shopify   \n",
              "1                                        0.0              Centene Corporation   \n",
              "2                                        0.0                    Floor & Decor   \n",
              "3                                        0.0                           Fiserv   \n",
              "4                                        7.0                 WestRock Company   \n",
              "...                                      ...                              ...   \n",
              "1351                                     0.0                 Maxim Integrated   \n",
              "1352                                     0.0                        Wolfspeed   \n",
              "1353                                     0.0           Apex Fintech Solutions   \n",
              "1354                                     0.0  Warwick Capital Management Ltd.   \n",
              "1355                                     0.0  New York Life Insurance Company   \n",
              "\n",
              "     Current_Company_Size  Current_Company_Employess_On_Linkedin  \\\n",
              "0                  Size_3                                16747.0   \n",
              "1                  Size_3                                28158.0   \n",
              "2                  Size_3                                 5238.0   \n",
              "3                  Size_3                                33430.0   \n",
              "4                  Size_3                                24260.0   \n",
              "...                   ...                                    ...   \n",
              "1351               Size_3                                21673.0   \n",
              "1352               Size_3                                 2047.0   \n",
              "1353               Size_2                                    NaN   \n",
              "1354               Size_1                                    7.0   \n",
              "1355               Size_3                                36141.0   \n",
              "\n",
              "      Current_Company_Followers Current_Company_Tier  \\\n",
              "0                      713684.0               TIER 1   \n",
              "1                      196232.0               TIER 1   \n",
              "2                       45063.0               TIER 1   \n",
              "3                      550327.0               TIER 1   \n",
              "4                      204857.0               TIER 1   \n",
              "...                         ...                  ...   \n",
              "1351                   311892.0               TIER 1   \n",
              "1352                    79762.0               TIER 2   \n",
              "1353                     1930.0               TIER 3   \n",
              "1354                      167.0               TIER 3   \n",
              "1355                   268551.0               TIER 1   \n",
              "\n",
              "     Current_Company_Parent_Cmp_exist Current_Company_Industry_EPAM  \\\n",
              "0                                   0                           ISV   \n",
              "1                                   0                            HC   \n",
              "2                                   0                           CPG   \n",
              "3                                   0                           ISV   \n",
              "4                                   0                           MFG   \n",
              "...                               ...                           ...   \n",
              "1351                                1                       Hi-Tech   \n",
              "1352                                0                       Hi-Tech   \n",
              "1353                                1                           INS   \n",
              "1354                                0                            FS   \n",
              "1355                                0                            FS   \n",
              "\n",
              "      Current_Company_Rev Current_Company_Forbes  \n",
              "0                  4611.9                      1  \n",
              "1                 74000.0                      0  \n",
              "2                  3433.5                      0  \n",
              "3                 10000.0                      1  \n",
              "4                 18000.0                      0  \n",
              "...                   ...                    ...  \n",
              "1351              12014.0                      0  \n",
              "1352                746.2                      0  \n",
              "1353                 99.2                      0  \n",
              "1354                  2.0                      0  \n",
              "1355              51199.0                      0  \n",
              "\n",
              "[1356 rows x 29 columns]"
            ],
            "text/html": [
              "\n",
              "  <div id=\"df-e9c8f5da-b293-412e-b095-15221cc65d28\">\n",
              "    <div class=\"colab-df-container\">\n",
              "      <div>\n",
              "<style scoped>\n",
              "    .dataframe tbody tr th:only-of-type {\n",
              "        vertical-align: middle;\n",
              "    }\n",
              "\n",
              "    .dataframe tbody tr th {\n",
              "        vertical-align: top;\n",
              "    }\n",
              "\n",
              "    .dataframe thead th {\n",
              "        text-align: right;\n",
              "    }\n",
              "</style>\n",
              "<table border=\"1\" class=\"dataframe\">\n",
              "  <thead>\n",
              "    <tr style=\"text-align: right;\">\n",
              "      <th></th>\n",
              "      <th>LeadGen</th>\n",
              "      <th>LinkedIn_Follower_Count</th>\n",
              "      <th>Linkedin_Connection_Count</th>\n",
              "      <th>Previous_Seniority_Level</th>\n",
              "      <th>Current_Seniority_Level</th>\n",
              "      <th>Previous_Company</th>\n",
              "      <th>Previous_Company_Size</th>\n",
              "      <th>Previous_Company_Industry_EPAM</th>\n",
              "      <th>Previous_Company_Employess_On_Linkedin</th>\n",
              "      <th>Previous_Company_Followers</th>\n",
              "      <th>Previous_Company_Parent_Cmp_exist</th>\n",
              "      <th>Previous_Company_Forbes</th>\n",
              "      <th>Previous_Company_Average_NPS</th>\n",
              "      <th>Communication_intensity</th>\n",
              "      <th>Engagement_Duration_Epam</th>\n",
              "      <th>Engegement_Cnt_Epam</th>\n",
              "      <th>First_engagement_year</th>\n",
              "      <th>Seniority_Level_Of_Epam</th>\n",
              "      <th>Engegement_Cnt_Epam_C_track</th>\n",
              "      <th>Engegement_Cnt_Epam_C_track_CommIntens</th>\n",
              "      <th>Current_Company</th>\n",
              "      <th>Current_Company_Size</th>\n",
              "      <th>Current_Company_Employess_On_Linkedin</th>\n",
              "      <th>Current_Company_Followers</th>\n",
              "      <th>Current_Company_Tier</th>\n",
              "      <th>Current_Company_Parent_Cmp_exist</th>\n",
              "      <th>Current_Company_Industry_EPAM</th>\n",
              "      <th>Current_Company_Rev</th>\n",
              "      <th>Current_Company_Forbes</th>\n",
              "    </tr>\n",
              "  </thead>\n",
              "  <tbody>\n",
              "    <tr>\n",
              "      <th>0</th>\n",
              "      <td>1</td>\n",
              "      <td>1210.0</td>\n",
              "      <td>1220.0</td>\n",
              "      <td>1</td>\n",
              "      <td>3</td>\n",
              "      <td>Equifax</td>\n",
              "      <td>Size_3</td>\n",
              "      <td>FS</td>\n",
              "      <td>14124.0</td>\n",
              "      <td>173891.0</td>\n",
              "      <td>0</td>\n",
              "      <td>1</td>\n",
              "      <td>8.0</td>\n",
              "      <td>13.0</td>\n",
              "      <td>1.0</td>\n",
              "      <td>2.0</td>\n",
              "      <td>2019.0</td>\n",
              "      <td>1</td>\n",
              "      <td>1.0</td>\n",
              "      <td>3.0</td>\n",
              "      <td>Shopify</td>\n",
              "      <td>Size_3</td>\n",
              "      <td>16747.0</td>\n",
              "      <td>713684.0</td>\n",
              "      <td>TIER 1</td>\n",
              "      <td>0</td>\n",
              "      <td>ISV</td>\n",
              "      <td>4611.9</td>\n",
              "      <td>1</td>\n",
              "    </tr>\n",
              "    <tr>\n",
              "      <th>1</th>\n",
              "      <td>1</td>\n",
              "      <td>642.0</td>\n",
              "      <td>629.0</td>\n",
              "      <td>1</td>\n",
              "      <td>1</td>\n",
              "      <td>Equifax</td>\n",
              "      <td>Size_3</td>\n",
              "      <td>FS</td>\n",
              "      <td>14124.0</td>\n",
              "      <td>173891.0</td>\n",
              "      <td>0</td>\n",
              "      <td>1</td>\n",
              "      <td>8.0</td>\n",
              "      <td>402.0</td>\n",
              "      <td>1.0</td>\n",
              "      <td>14.0</td>\n",
              "      <td>2019.0</td>\n",
              "      <td>2</td>\n",
              "      <td>0.0</td>\n",
              "      <td>0.0</td>\n",
              "      <td>Centene Corporation</td>\n",
              "      <td>Size_3</td>\n",
              "      <td>28158.0</td>\n",
              "      <td>196232.0</td>\n",
              "      <td>TIER 1</td>\n",
              "      <td>0</td>\n",
              "      <td>HC</td>\n",
              "      <td>74000.0</td>\n",
              "      <td>0</td>\n",
              "    </tr>\n",
              "    <tr>\n",
              "      <th>2</th>\n",
              "      <td>1</td>\n",
              "      <td>810.0</td>\n",
              "      <td>808.0</td>\n",
              "      <td>2</td>\n",
              "      <td>2</td>\n",
              "      <td>Equifax</td>\n",
              "      <td>Size_3</td>\n",
              "      <td>FS</td>\n",
              "      <td>14124.0</td>\n",
              "      <td>173891.0</td>\n",
              "      <td>0</td>\n",
              "      <td>1</td>\n",
              "      <td>8.0</td>\n",
              "      <td>1892.0</td>\n",
              "      <td>2.0</td>\n",
              "      <td>24.0</td>\n",
              "      <td>2020.0</td>\n",
              "      <td>2</td>\n",
              "      <td>0.0</td>\n",
              "      <td>0.0</td>\n",
              "      <td>Floor &amp; Decor</td>\n",
              "      <td>Size_3</td>\n",
              "      <td>5238.0</td>\n",
              "      <td>45063.0</td>\n",
              "      <td>TIER 1</td>\n",
              "      <td>0</td>\n",
              "      <td>CPG</td>\n",
              "      <td>3433.5</td>\n",
              "      <td>0</td>\n",
              "    </tr>\n",
              "    <tr>\n",
              "      <th>3</th>\n",
              "      <td>1</td>\n",
              "      <td>3892.0</td>\n",
              "      <td>3899.0</td>\n",
              "      <td>1</td>\n",
              "      <td>1</td>\n",
              "      <td>Equifax</td>\n",
              "      <td>Size_3</td>\n",
              "      <td>FS</td>\n",
              "      <td>14124.0</td>\n",
              "      <td>173891.0</td>\n",
              "      <td>0</td>\n",
              "      <td>1</td>\n",
              "      <td>8.0</td>\n",
              "      <td>132.0</td>\n",
              "      <td>2.0</td>\n",
              "      <td>7.0</td>\n",
              "      <td>2019.0</td>\n",
              "      <td>2</td>\n",
              "      <td>0.0</td>\n",
              "      <td>0.0</td>\n",
              "      <td>Fiserv</td>\n",
              "      <td>Size_3</td>\n",
              "      <td>33430.0</td>\n",
              "      <td>550327.0</td>\n",
              "      <td>TIER 1</td>\n",
              "      <td>0</td>\n",
              "      <td>ISV</td>\n",
              "      <td>10000.0</td>\n",
              "      <td>1</td>\n",
              "    </tr>\n",
              "    <tr>\n",
              "      <th>4</th>\n",
              "      <td>0</td>\n",
              "      <td>741.0</td>\n",
              "      <td>738.0</td>\n",
              "      <td>1</td>\n",
              "      <td>1</td>\n",
              "      <td>Equifax</td>\n",
              "      <td>Size_3</td>\n",
              "      <td>FS</td>\n",
              "      <td>14124.0</td>\n",
              "      <td>173891.0</td>\n",
              "      <td>0</td>\n",
              "      <td>1</td>\n",
              "      <td>8.0</td>\n",
              "      <td>176.0</td>\n",
              "      <td>1.0</td>\n",
              "      <td>11.0</td>\n",
              "      <td>2019.0</td>\n",
              "      <td>1</td>\n",
              "      <td>1.0</td>\n",
              "      <td>7.0</td>\n",
              "      <td>WestRock Company</td>\n",
              "      <td>Size_3</td>\n",
              "      <td>24260.0</td>\n",
              "      <td>204857.0</td>\n",
              "      <td>TIER 1</td>\n",
              "      <td>0</td>\n",
              "      <td>MFG</td>\n",
              "      <td>18000.0</td>\n",
              "      <td>0</td>\n",
              "    </tr>\n",
              "    <tr>\n",
              "      <th>...</th>\n",
              "      <td>...</td>\n",
              "      <td>...</td>\n",
              "      <td>...</td>\n",
              "      <td>...</td>\n",
              "      <td>...</td>\n",
              "      <td>...</td>\n",
              "      <td>...</td>\n",
              "      <td>...</td>\n",
              "      <td>...</td>\n",
              "      <td>...</td>\n",
              "      <td>...</td>\n",
              "      <td>...</td>\n",
              "      <td>...</td>\n",
              "      <td>...</td>\n",
              "      <td>...</td>\n",
              "      <td>...</td>\n",
              "      <td>...</td>\n",
              "      <td>...</td>\n",
              "      <td>...</td>\n",
              "      <td>...</td>\n",
              "      <td>...</td>\n",
              "      <td>...</td>\n",
              "      <td>...</td>\n",
              "      <td>...</td>\n",
              "      <td>...</td>\n",
              "      <td>...</td>\n",
              "      <td>...</td>\n",
              "      <td>...</td>\n",
              "      <td>...</td>\n",
              "    </tr>\n",
              "    <tr>\n",
              "      <th>1351</th>\n",
              "      <td>1</td>\n",
              "      <td>406.0</td>\n",
              "      <td>407.0</td>\n",
              "      <td>3</td>\n",
              "      <td>3</td>\n",
              "      <td>GlobalFoundries</td>\n",
              "      <td>Size_3</td>\n",
              "      <td>Hi-Tech</td>\n",
              "      <td>12750.0</td>\n",
              "      <td>190904.0</td>\n",
              "      <td>0</td>\n",
              "      <td>1</td>\n",
              "      <td>8.0</td>\n",
              "      <td>22.0</td>\n",
              "      <td>1.0</td>\n",
              "      <td>3.0</td>\n",
              "      <td>2018.0</td>\n",
              "      <td>2</td>\n",
              "      <td>0.0</td>\n",
              "      <td>0.0</td>\n",
              "      <td>Maxim Integrated</td>\n",
              "      <td>Size_3</td>\n",
              "      <td>21673.0</td>\n",
              "      <td>311892.0</td>\n",
              "      <td>TIER 1</td>\n",
              "      <td>1</td>\n",
              "      <td>Hi-Tech</td>\n",
              "      <td>12014.0</td>\n",
              "      <td>0</td>\n",
              "    </tr>\n",
              "    <tr>\n",
              "      <th>1352</th>\n",
              "      <td>0</td>\n",
              "      <td>1278.0</td>\n",
              "      <td>1009.0</td>\n",
              "      <td>1</td>\n",
              "      <td>1</td>\n",
              "      <td>GlobalFoundries</td>\n",
              "      <td>Size_3</td>\n",
              "      <td>Hi-Tech</td>\n",
              "      <td>12750.0</td>\n",
              "      <td>190904.0</td>\n",
              "      <td>0</td>\n",
              "      <td>1</td>\n",
              "      <td>8.0</td>\n",
              "      <td>67.0</td>\n",
              "      <td>2.0</td>\n",
              "      <td>3.0</td>\n",
              "      <td>2018.0</td>\n",
              "      <td>2</td>\n",
              "      <td>0.0</td>\n",
              "      <td>0.0</td>\n",
              "      <td>Wolfspeed</td>\n",
              "      <td>Size_3</td>\n",
              "      <td>2047.0</td>\n",
              "      <td>79762.0</td>\n",
              "      <td>TIER 2</td>\n",
              "      <td>0</td>\n",
              "      <td>Hi-Tech</td>\n",
              "      <td>746.2</td>\n",
              "      <td>0</td>\n",
              "    </tr>\n",
              "    <tr>\n",
              "      <th>1353</th>\n",
              "      <td>0</td>\n",
              "      <td>339.0</td>\n",
              "      <td>339.0</td>\n",
              "      <td>3</td>\n",
              "      <td>3</td>\n",
              "      <td>Hehmeyer</td>\n",
              "      <td>Size_1</td>\n",
              "      <td>NaN</td>\n",
              "      <td>NaN</td>\n",
              "      <td>NaN</td>\n",
              "      <td>0</td>\n",
              "      <td>0</td>\n",
              "      <td>10.0</td>\n",
              "      <td>60.0</td>\n",
              "      <td>3.0</td>\n",
              "      <td>4.0</td>\n",
              "      <td>2020.0</td>\n",
              "      <td>3</td>\n",
              "      <td>0.0</td>\n",
              "      <td>0.0</td>\n",
              "      <td>Apex Fintech Solutions</td>\n",
              "      <td>Size_2</td>\n",
              "      <td>NaN</td>\n",
              "      <td>1930.0</td>\n",
              "      <td>TIER 3</td>\n",
              "      <td>1</td>\n",
              "      <td>INS</td>\n",
              "      <td>99.2</td>\n",
              "      <td>0</td>\n",
              "    </tr>\n",
              "    <tr>\n",
              "      <th>1354</th>\n",
              "      <td>0</td>\n",
              "      <td>18573.0</td>\n",
              "      <td>17510.0</td>\n",
              "      <td>1</td>\n",
              "      <td>1</td>\n",
              "      <td>Hehmeyer</td>\n",
              "      <td>Size_1</td>\n",
              "      <td>NaN</td>\n",
              "      <td>NaN</td>\n",
              "      <td>NaN</td>\n",
              "      <td>0</td>\n",
              "      <td>0</td>\n",
              "      <td>10.0</td>\n",
              "      <td>57.0</td>\n",
              "      <td>1.0</td>\n",
              "      <td>3.0</td>\n",
              "      <td>2021.0</td>\n",
              "      <td>2</td>\n",
              "      <td>0.0</td>\n",
              "      <td>0.0</td>\n",
              "      <td>Warwick Capital Management Ltd.</td>\n",
              "      <td>Size_1</td>\n",
              "      <td>7.0</td>\n",
              "      <td>167.0</td>\n",
              "      <td>TIER 3</td>\n",
              "      <td>0</td>\n",
              "      <td>FS</td>\n",
              "      <td>2.0</td>\n",
              "      <td>0</td>\n",
              "    </tr>\n",
              "    <tr>\n",
              "      <th>1355</th>\n",
              "      <td>1</td>\n",
              "      <td>608.0</td>\n",
              "      <td>612.0</td>\n",
              "      <td>3</td>\n",
              "      <td>3</td>\n",
              "      <td>Hilti North America</td>\n",
              "      <td>Size_3</td>\n",
              "      <td>Other</td>\n",
              "      <td>24151.0</td>\n",
              "      <td>419882.0</td>\n",
              "      <td>1</td>\n",
              "      <td>0</td>\n",
              "      <td>NaN</td>\n",
              "      <td>173.0</td>\n",
              "      <td>2.0</td>\n",
              "      <td>3.0</td>\n",
              "      <td>2019.0</td>\n",
              "      <td>2</td>\n",
              "      <td>0.0</td>\n",
              "      <td>0.0</td>\n",
              "      <td>New York Life Insurance Company</td>\n",
              "      <td>Size_3</td>\n",
              "      <td>36141.0</td>\n",
              "      <td>268551.0</td>\n",
              "      <td>TIER 1</td>\n",
              "      <td>0</td>\n",
              "      <td>FS</td>\n",
              "      <td>51199.0</td>\n",
              "      <td>0</td>\n",
              "    </tr>\n",
              "  </tbody>\n",
              "</table>\n",
              "<p>1356 rows × 29 columns</p>\n",
              "</div>\n",
              "      <button class=\"colab-df-convert\" onclick=\"convertToInteractive('df-e9c8f5da-b293-412e-b095-15221cc65d28')\"\n",
              "              title=\"Convert this dataframe to an interactive table.\"\n",
              "              style=\"display:none;\">\n",
              "        \n",
              "  <svg xmlns=\"http://www.w3.org/2000/svg\" height=\"24px\"viewBox=\"0 0 24 24\"\n",
              "       width=\"24px\">\n",
              "    <path d=\"M0 0h24v24H0V0z\" fill=\"none\"/>\n",
              "    <path d=\"M18.56 5.44l.94 2.06.94-2.06 2.06-.94-2.06-.94-.94-2.06-.94 2.06-2.06.94zm-11 1L8.5 8.5l.94-2.06 2.06-.94-2.06-.94L8.5 2.5l-.94 2.06-2.06.94zm10 10l.94 2.06.94-2.06 2.06-.94-2.06-.94-.94-2.06-.94 2.06-2.06.94z\"/><path d=\"M17.41 7.96l-1.37-1.37c-.4-.4-.92-.59-1.43-.59-.52 0-1.04.2-1.43.59L10.3 9.45l-7.72 7.72c-.78.78-.78 2.05 0 2.83L4 21.41c.39.39.9.59 1.41.59.51 0 1.02-.2 1.41-.59l7.78-7.78 2.81-2.81c.8-.78.8-2.07 0-2.86zM5.41 20L4 18.59l7.72-7.72 1.47 1.35L5.41 20z\"/>\n",
              "  </svg>\n",
              "      </button>\n",
              "      \n",
              "  <style>\n",
              "    .colab-df-container {\n",
              "      display:flex;\n",
              "      flex-wrap:wrap;\n",
              "      gap: 12px;\n",
              "    }\n",
              "\n",
              "    .colab-df-convert {\n",
              "      background-color: #E8F0FE;\n",
              "      border: none;\n",
              "      border-radius: 50%;\n",
              "      cursor: pointer;\n",
              "      display: none;\n",
              "      fill: #1967D2;\n",
              "      height: 32px;\n",
              "      padding: 0 0 0 0;\n",
              "      width: 32px;\n",
              "    }\n",
              "\n",
              "    .colab-df-convert:hover {\n",
              "      background-color: #E2EBFA;\n",
              "      box-shadow: 0px 1px 2px rgba(60, 64, 67, 0.3), 0px 1px 3px 1px rgba(60, 64, 67, 0.15);\n",
              "      fill: #174EA6;\n",
              "    }\n",
              "\n",
              "    [theme=dark] .colab-df-convert {\n",
              "      background-color: #3B4455;\n",
              "      fill: #D2E3FC;\n",
              "    }\n",
              "\n",
              "    [theme=dark] .colab-df-convert:hover {\n",
              "      background-color: #434B5C;\n",
              "      box-shadow: 0px 1px 3px 1px rgba(0, 0, 0, 0.15);\n",
              "      filter: drop-shadow(0px 1px 2px rgba(0, 0, 0, 0.3));\n",
              "      fill: #FFFFFF;\n",
              "    }\n",
              "  </style>\n",
              "\n",
              "      <script>\n",
              "        const buttonEl =\n",
              "          document.querySelector('#df-e9c8f5da-b293-412e-b095-15221cc65d28 button.colab-df-convert');\n",
              "        buttonEl.style.display =\n",
              "          google.colab.kernel.accessAllowed ? 'block' : 'none';\n",
              "\n",
              "        async function convertToInteractive(key) {\n",
              "          const element = document.querySelector('#df-e9c8f5da-b293-412e-b095-15221cc65d28');\n",
              "          const dataTable =\n",
              "            await google.colab.kernel.invokeFunction('convertToInteractive',\n",
              "                                                     [key], {});\n",
              "          if (!dataTable) return;\n",
              "\n",
              "          const docLinkHtml = 'Like what you see? Visit the ' +\n",
              "            '<a target=\"_blank\" href=https://colab.research.google.com/notebooks/data_table.ipynb>data table notebook</a>'\n",
              "            + ' to learn more about interactive tables.';\n",
              "          element.innerHTML = '';\n",
              "          dataTable['output_type'] = 'display_data';\n",
              "          await google.colab.output.renderOutput(dataTable, element);\n",
              "          const docLink = document.createElement('div');\n",
              "          docLink.innerHTML = docLinkHtml;\n",
              "          element.appendChild(docLink);\n",
              "        }\n",
              "      </script>\n",
              "    </div>\n",
              "  </div>\n",
              "  "
            ]
          },
          "metadata": {},
          "execution_count": 88
        }
      ]
    },
    {
      "cell_type": "code",
      "source": [
        "data_pre_process=data_pre_process.drop([\"Previous_Company\"],axis=1)"
      ],
      "metadata": {
        "id": "bkpyTUNObrIw"
      },
      "execution_count": 89,
      "outputs": []
    },
    {
      "cell_type": "code",
      "source": [
        "data_pre_process=data_pre_process.drop([\"Current_Company\"],axis=1)"
      ],
      "metadata": {
        "id": "CwK3Ctbubq-u"
      },
      "execution_count": 90,
      "outputs": []
    },
    {
      "cell_type": "code",
      "source": [
        "data_pre_process=data_pre_process.drop([\"Current_Company_Parent_Cmp_exist\"],axis=1)"
      ],
      "metadata": {
        "id": "Rsps3sGTorkP"
      },
      "execution_count": 91,
      "outputs": []
    },
    {
      "cell_type": "code",
      "source": [
        "data_pre_process=data_pre_process.drop([\"Previous_Company_Parent_Cmp_exist\"],axis=1)"
      ],
      "metadata": {
        "id": "nXk4B-2sorfp"
      },
      "execution_count": 92,
      "outputs": []
    },
    {
      "cell_type": "code",
      "source": [
        "data_pre_process=data_pre_process.drop([\"Previous_Company_Followers\"],axis=1)"
      ],
      "metadata": {
        "id": "2C9b3VvRora5"
      },
      "execution_count": 93,
      "outputs": []
    },
    {
      "cell_type": "code",
      "source": [
        "data_pre_process=data_pre_process.drop([\"Previous_Company_Employess_On_Linkedin\"],axis=1)"
      ],
      "metadata": {
        "id": "bnWxDz8EorWF"
      },
      "execution_count": 94,
      "outputs": []
    },
    {
      "cell_type": "code",
      "source": [
        "data_pre_process=data_pre_process.drop([\"Current_Company_Employess_On_Linkedin\"],axis=1)"
      ],
      "metadata": {
        "id": "hKAuNnND5iZG"
      },
      "execution_count": 95,
      "outputs": []
    },
    {
      "cell_type": "code",
      "source": [
        "X=data_pre_process.drop([\"LeadGen\"], axis=1)"
      ],
      "metadata": {
        "id": "XHixSx2qPUxx"
      },
      "execution_count": 96,
      "outputs": []
    },
    {
      "cell_type": "code",
      "source": [
        "y=data_pre_process[\"LeadGen\"]"
      ],
      "metadata": {
        "id": "qr3hwcNeT0zq"
      },
      "execution_count": 97,
      "outputs": []
    },
    {
      "cell_type": "code",
      "source": [
        "# Splitting data into training, validation and test set:\n",
        "# first we split data into 2 parts, say temporary and test\n",
        "\n",
        "X_temp, X_test, y_temp, y_test = train_test_split(\n",
        "    X, y, test_size=0.2, random_state=1, stratify=y\n",
        ")\n",
        "\n",
        "# then we split the temporary set into train and validation\n",
        "\n",
        "X_train, X_val, y_train, y_val = train_test_split(\n",
        "    X_temp, y_temp, test_size=0.25, random_state=1, stratify=y_temp\n",
        ")\n",
        "print(X_train.shape, X_val.shape, X_test.shape)"
      ],
      "metadata": {
        "colab": {
          "base_uri": "https://localhost:8080/"
        },
        "id": "JVrraDLUT0rW",
        "outputId": "d4c10d22-fbea-4e5d-b4fb-a64af4429398"
      },
      "execution_count": 98,
      "outputs": [
        {
          "output_type": "stream",
          "name": "stdout",
          "text": [
            "(813, 21) (271, 21) (272, 21)\n"
          ]
        }
      ]
    },
    {
      "cell_type": "code",
      "source": [
        "print(\"Number of rows in train data =\", X_train.shape[0])\n",
        "print(\"Number of rows in validation data =\", X_val.shape[0])\n",
        "print(\"Number of rows in test data =\", X_test.shape[0])"
      ],
      "metadata": {
        "colab": {
          "base_uri": "https://localhost:8080/"
        },
        "id": "XHB9UhsqXcG6",
        "outputId": "42fb679a-bea8-41da-cac6-949274946c08"
      },
      "execution_count": 99,
      "outputs": [
        {
          "output_type": "stream",
          "name": "stdout",
          "text": [
            "Number of rows in train data = 813\n",
            "Number of rows in validation data = 271\n",
            "Number of rows in test data = 272\n"
          ]
        }
      ]
    },
    {
      "cell_type": "markdown",
      "source": [
        "**3.2** **Imputing Missing Values**"
      ],
      "metadata": {
        "id": "H3-NNGe9cMEL"
      }
    },
    {
      "cell_type": "code",
      "source": [
        "def impute_missing_with_median(data):\n",
        "    numeric_columns = data.select_dtypes(include=[np.number]).columns\n",
        "    imputer = SimpleImputer(strategy='median')\n",
        "    data_copy = data.copy()\n",
        "    data_copy[numeric_columns] = imputer.fit_transform(data_copy[numeric_columns])\n",
        "    return data_copy"
      ],
      "metadata": {
        "id": "2Ge4d8kzXAqj"
      },
      "execution_count": 100,
      "outputs": []
    },
    {
      "cell_type": "markdown",
      "source": [
        "**3.2.1** **Imputing Numerical Values**"
      ],
      "metadata": {
        "id": "YQ1VJeP8X5oq"
      }
    },
    {
      "cell_type": "code",
      "source": [
        "round(X_train.isnull().sum() / X_train.isnull().count() * 100, 2)"
      ],
      "metadata": {
        "colab": {
          "base_uri": "https://localhost:8080/"
        },
        "id": "GT5ufZiOea2O",
        "outputId": "f1ad4e55-e20f-41a3-a8dd-8bcf75ea6479"
      },
      "execution_count": 101,
      "outputs": [
        {
          "output_type": "execute_result",
          "data": {
            "text/plain": [
              "LinkedIn_Follower_Count                   4.43\n",
              "Linkedin_Connection_Count                 4.55\n",
              "Previous_Seniority_Level                  0.00\n",
              "Current_Seniority_Level                   0.00\n",
              "Previous_Company_Size                     0.00\n",
              "Previous_Company_Industry_EPAM            0.12\n",
              "Previous_Company_Forbes                   0.00\n",
              "Previous_Company_Average_NPS              9.23\n",
              "Communication_intensity                   2.09\n",
              "Engagement_Duration_Epam                  2.09\n",
              "Engegement_Cnt_Epam                       2.09\n",
              "First_engagement_year                     2.09\n",
              "Seniority_Level_Of_Epam                   0.00\n",
              "Engegement_Cnt_Epam_C_track               2.09\n",
              "Engegement_Cnt_Epam_C_track_CommIntens    2.09\n",
              "Current_Company_Size                      0.00\n",
              "Current_Company_Followers                 1.97\n",
              "Current_Company_Tier                      0.49\n",
              "Current_Company_Industry_EPAM             2.09\n",
              "Current_Company_Rev                       1.60\n",
              "Current_Company_Forbes                    0.00\n",
              "dtype: float64"
            ]
          },
          "metadata": {},
          "execution_count": 101
        }
      ]
    },
    {
      "cell_type": "code",
      "source": [
        "X_train = impute_missing_with_median(X_train)"
      ],
      "metadata": {
        "id": "Q08fOzAbBY1I"
      },
      "execution_count": 102,
      "outputs": []
    },
    {
      "cell_type": "code",
      "source": [
        "round(X_train.isnull().sum() / X_train.isnull().count() * 100, 2)"
      ],
      "metadata": {
        "colab": {
          "base_uri": "https://localhost:8080/"
        },
        "id": "DCtxFvtcXcC-",
        "outputId": "b2e7a452-b5f2-4549-e909-1e5a9a5cbc05"
      },
      "execution_count": 103,
      "outputs": [
        {
          "output_type": "execute_result",
          "data": {
            "text/plain": [
              "LinkedIn_Follower_Count                   0.00\n",
              "Linkedin_Connection_Count                 0.00\n",
              "Previous_Seniority_Level                  0.00\n",
              "Current_Seniority_Level                   0.00\n",
              "Previous_Company_Size                     0.00\n",
              "Previous_Company_Industry_EPAM            0.12\n",
              "Previous_Company_Forbes                   0.00\n",
              "Previous_Company_Average_NPS              0.00\n",
              "Communication_intensity                   0.00\n",
              "Engagement_Duration_Epam                  0.00\n",
              "Engegement_Cnt_Epam                       0.00\n",
              "First_engagement_year                     2.09\n",
              "Seniority_Level_Of_Epam                   0.00\n",
              "Engegement_Cnt_Epam_C_track               0.00\n",
              "Engegement_Cnt_Epam_C_track_CommIntens    0.00\n",
              "Current_Company_Size                      0.00\n",
              "Current_Company_Followers                 0.00\n",
              "Current_Company_Tier                      0.49\n",
              "Current_Company_Industry_EPAM             2.09\n",
              "Current_Company_Rev                       0.00\n",
              "Current_Company_Forbes                    0.00\n",
              "dtype: float64"
            ]
          },
          "metadata": {},
          "execution_count": 103
        }
      ]
    },
    {
      "cell_type": "code",
      "source": [
        "X_test = impute_missing_with_median(X_test)"
      ],
      "metadata": {
        "id": "udEVLtkjXcAp"
      },
      "execution_count": 104,
      "outputs": []
    },
    {
      "cell_type": "code",
      "source": [
        "X_val = impute_missing_with_median(X_val)"
      ],
      "metadata": {
        "id": "5TRMm7U_Xb-Q"
      },
      "execution_count": 105,
      "outputs": []
    },
    {
      "cell_type": "markdown",
      "source": [
        "**4.2.2** **Imputing Categorical Values**"
      ],
      "metadata": {
        "id": "BEroYHXSe_P5"
      }
    },
    {
      "cell_type": "code",
      "source": [
        "def impute_missing_with_mode(data):\n",
        "    categorical_columns = data.select_dtypes(include=['category']).columns\n",
        "    data_copy = data.copy()\n",
        "    for column in categorical_columns:\n",
        "        mode = data_copy[column].mode()[0]\n",
        "        data_copy[column].fillna(mode, inplace=True)\n",
        "    return data_copy"
      ],
      "metadata": {
        "id": "w_QiTLQ_YYXZ"
      },
      "execution_count": 106,
      "outputs": []
    },
    {
      "cell_type": "code",
      "source": [
        "X_train=impute_missing_with_mode(X_train)"
      ],
      "metadata": {
        "id": "VT19GvQfXb73"
      },
      "execution_count": 107,
      "outputs": []
    },
    {
      "cell_type": "code",
      "source": [
        "X_test=impute_missing_with_mode(X_test)"
      ],
      "metadata": {
        "id": "SP2G6iuCXb5C"
      },
      "execution_count": 108,
      "outputs": []
    },
    {
      "cell_type": "code",
      "source": [
        "X_val=impute_missing_with_mode(X_val)"
      ],
      "metadata": {
        "id": "UvzlAKBWXb2a"
      },
      "execution_count": 109,
      "outputs": []
    },
    {
      "cell_type": "code",
      "source": [
        "round(X_train.isnull().sum() / X_train.isnull().count() * 100, 2)"
      ],
      "metadata": {
        "colab": {
          "base_uri": "https://localhost:8080/"
        },
        "id": "52rzIapnXbzn",
        "outputId": "65ccb557-5194-4807-b26d-eb67716e4536"
      },
      "execution_count": 110,
      "outputs": [
        {
          "output_type": "execute_result",
          "data": {
            "text/plain": [
              "LinkedIn_Follower_Count                   0.0\n",
              "Linkedin_Connection_Count                 0.0\n",
              "Previous_Seniority_Level                  0.0\n",
              "Current_Seniority_Level                   0.0\n",
              "Previous_Company_Size                     0.0\n",
              "Previous_Company_Industry_EPAM            0.0\n",
              "Previous_Company_Forbes                   0.0\n",
              "Previous_Company_Average_NPS              0.0\n",
              "Communication_intensity                   0.0\n",
              "Engagement_Duration_Epam                  0.0\n",
              "Engegement_Cnt_Epam                       0.0\n",
              "First_engagement_year                     0.0\n",
              "Seniority_Level_Of_Epam                   0.0\n",
              "Engegement_Cnt_Epam_C_track               0.0\n",
              "Engegement_Cnt_Epam_C_track_CommIntens    0.0\n",
              "Current_Company_Size                      0.0\n",
              "Current_Company_Followers                 0.0\n",
              "Current_Company_Tier                      0.0\n",
              "Current_Company_Industry_EPAM             0.0\n",
              "Current_Company_Rev                       0.0\n",
              "Current_Company_Forbes                    0.0\n",
              "dtype: float64"
            ]
          },
          "metadata": {},
          "execution_count": 110
        }
      ]
    },
    {
      "cell_type": "code",
      "source": [
        "round(X_test.isnull().sum() / X_test.isnull().count() * 100, 2)"
      ],
      "metadata": {
        "colab": {
          "base_uri": "https://localhost:8080/"
        },
        "id": "N7sxYNjDfVHl",
        "outputId": "eac21218-c4be-4a13-c37c-c706dce03047"
      },
      "execution_count": 111,
      "outputs": [
        {
          "output_type": "execute_result",
          "data": {
            "text/plain": [
              "LinkedIn_Follower_Count                   0.0\n",
              "Linkedin_Connection_Count                 0.0\n",
              "Previous_Seniority_Level                  0.0\n",
              "Current_Seniority_Level                   0.0\n",
              "Previous_Company_Size                     0.0\n",
              "Previous_Company_Industry_EPAM            0.0\n",
              "Previous_Company_Forbes                   0.0\n",
              "Previous_Company_Average_NPS              0.0\n",
              "Communication_intensity                   0.0\n",
              "Engagement_Duration_Epam                  0.0\n",
              "Engegement_Cnt_Epam                       0.0\n",
              "First_engagement_year                     0.0\n",
              "Seniority_Level_Of_Epam                   0.0\n",
              "Engegement_Cnt_Epam_C_track               0.0\n",
              "Engegement_Cnt_Epam_C_track_CommIntens    0.0\n",
              "Current_Company_Size                      0.0\n",
              "Current_Company_Followers                 0.0\n",
              "Current_Company_Tier                      0.0\n",
              "Current_Company_Industry_EPAM             0.0\n",
              "Current_Company_Rev                       0.0\n",
              "Current_Company_Forbes                    0.0\n",
              "dtype: float64"
            ]
          },
          "metadata": {},
          "execution_count": 111
        }
      ]
    },
    {
      "cell_type": "markdown",
      "source": [
        "**4.2** **Feature Enginering**"
      ],
      "metadata": {
        "id": "VGDKUpHIYkoV"
      }
    },
    {
      "cell_type": "markdown",
      "source": [
        "**4.2.1** **Outlier Treatment On Numerical Columns**"
      ],
      "metadata": {
        "id": "J8gJyjqbYo_7"
      }
    },
    {
      "cell_type": "code",
      "execution_count": 112,
      "metadata": {
        "id": "XlJSrAJ-U5Oq"
      },
      "outputs": [],
      "source": [
        "# defining a function to compute different metrics to check performance of a classification model built using sklearn\n",
        "def model_performance_classification_sklearn(model, predictors, target):\n",
        "    \"\"\"\n",
        "    Function to compute different metrics to check classification model performance\n",
        "\n",
        "    model: classifier\n",
        "    predictors: independent variables\n",
        "    target: dependent variable\n",
        "    \"\"\"\n",
        "\n",
        "    # predicting using the independent variables\n",
        "    pred = model.predict(predictors)\n",
        "\n",
        "    acc = accuracy_score(target, pred)  # to compute Accuracy\n",
        "    recall = recall_score(target, pred)  # to compute Recall\n",
        "    precision = precision_score(target, pred)  # to compute Precision\n",
        "    f1 = f1_score(target, pred)  # to compute F1-score\n",
        "\n",
        "    # creating a dataframe of metrics\n",
        "    df_perf = pd.DataFrame(\n",
        "        {\"Accuracy\": acc, \"Recall\": recall, \"Precision\": precision, \"F1\": f1,},\n",
        "        index=[0],\n",
        "    )\n",
        "\n",
        "    return df_perf"
      ]
    },
    {
      "cell_type": "code",
      "execution_count": 113,
      "metadata": {
        "id": "rhCzeOmOU5Oq"
      },
      "outputs": [],
      "source": [
        "def confusion_matrix_sklearn(model, predictors, target):\n",
        "    \"\"\"\n",
        "    To plot the confusion_matrix with percentages\n",
        "\n",
        "    model: classifier\n",
        "    predictors: independent variables\n",
        "    target: dependent variable\n",
        "    \"\"\"\n",
        "    y_pred = model.predict(predictors)\n",
        "    cm = confusion_matrix(target, y_pred)\n",
        "    labels = np.asarray(\n",
        "        [\n",
        "            [\"{0:0.0f}\".format(item) + \"\\n{0:.2%}\".format(item / cm.flatten().sum())]\n",
        "            for item in cm.flatten()\n",
        "        ]\n",
        "    ).reshape(2, 2)\n",
        "\n",
        "    plt.figure(figsize=(6, 4))\n",
        "    sns.heatmap(cm, annot=labels, fmt=\"\")\n",
        "    plt.ylabel(\"True label\")\n",
        "    plt.xlabel(\"Predicted label\")"
      ]
    },
    {
      "cell_type": "code",
      "execution_count": 114,
      "metadata": {
        "id": "e2737e99"
      },
      "outputs": [],
      "source": [
        "# functions to treat outliers by flooring and capping\n",
        "\n",
        "\n",
        "def treat_outliers(df, col):\n",
        "    \"\"\"\n",
        "    Treats outliers in a variable\n",
        "\n",
        "    df: dataframe\n",
        "    col: dataframe column\n",
        "    \"\"\"\n",
        "    Q1 = df[col].quantile(0.25)  # 25th quantile\n",
        "    Q3 = df[col].quantile(0.75)  # 75th quantile\n",
        "    IQR = Q3 - Q1\n",
        "    Lower_Whisker = Q1 - 1.5 * IQR\n",
        "    Upper_Whisker = Q3 + 1.5 * IQR\n",
        "\n",
        "    # all the values smaller than Lower_Whisker will be assigned the value of Lower_Whisker\n",
        "    # all the values greater than Upper_Whisker will be assigned the value of Upper_Whisker\n",
        "    df[col] = np.clip(df[col], Lower_Whisker, Upper_Whisker)\n",
        "\n",
        "    return df\n",
        "\n",
        "\n",
        "def treat_outliers_all(df, col_list):\n",
        "    \"\"\"\n",
        "    Treat outliers in a list of variables\n",
        "\n",
        "    df: dataframe\n",
        "    col_list: list of dataframe columns\n",
        "    \"\"\"\n",
        "    for c in col_list:\n",
        "        df = treat_outliers(df, c)\n",
        "\n",
        "    return df"
      ]
    },
    {
      "cell_type": "code",
      "source": [],
      "metadata": {
        "id": "ciitE6OtPUlM"
      },
      "execution_count": null,
      "outputs": []
    },
    {
      "cell_type": "code",
      "source": [],
      "metadata": {
        "id": "iEnZffQBPUiw"
      },
      "execution_count": null,
      "outputs": []
    },
    {
      "cell_type": "code",
      "source": [],
      "metadata": {
        "id": "0GWFBiNePUgP"
      },
      "execution_count": null,
      "outputs": []
    },
    {
      "cell_type": "code",
      "source": [],
      "metadata": {
        "id": "GJMpeN8vPUdq"
      },
      "execution_count": null,
      "outputs": []
    },
    {
      "cell_type": "code",
      "source": [],
      "metadata": {
        "id": "jtNNapG_PUYZ"
      },
      "execution_count": null,
      "outputs": []
    },
    {
      "cell_type": "code",
      "source": [],
      "metadata": {
        "id": "jdN7w46sPUV8"
      },
      "execution_count": null,
      "outputs": []
    },
    {
      "cell_type": "code",
      "source": [],
      "metadata": {
        "id": "Te6N95otSVOM"
      },
      "execution_count": null,
      "outputs": []
    },
    {
      "cell_type": "code",
      "source": [],
      "metadata": {
        "id": "w7ohmkHySVLk"
      },
      "execution_count": null,
      "outputs": []
    },
    {
      "cell_type": "code",
      "source": [],
      "metadata": {
        "id": "H_p5G8DLSVIo"
      },
      "execution_count": null,
      "outputs": []
    },
    {
      "cell_type": "code",
      "source": [],
      "metadata": {
        "id": "6xezy6AGSVGI"
      },
      "execution_count": null,
      "outputs": []
    },
    {
      "cell_type": "code",
      "source": [],
      "metadata": {
        "id": "oNTxJNH-SVD9"
      },
      "execution_count": null,
      "outputs": []
    },
    {
      "cell_type": "code",
      "source": [],
      "metadata": {
        "id": "nOGmWageSVBb"
      },
      "execution_count": null,
      "outputs": []
    },
    {
      "cell_type": "code",
      "source": [],
      "metadata": {
        "id": "908_PEb3SU_I"
      },
      "execution_count": null,
      "outputs": []
    },
    {
      "cell_type": "code",
      "source": [],
      "metadata": {
        "id": "3CXjA1jvSU8u"
      },
      "execution_count": null,
      "outputs": []
    },
    {
      "cell_type": "code",
      "source": [],
      "metadata": {
        "id": "sES7t2WBSU6M"
      },
      "execution_count": null,
      "outputs": []
    },
    {
      "cell_type": "code",
      "source": [],
      "metadata": {
        "id": "znZpxpuxSU3m"
      },
      "execution_count": null,
      "outputs": []
    },
    {
      "cell_type": "code",
      "source": [],
      "metadata": {
        "id": "0V24jaZvSU1I"
      },
      "execution_count": null,
      "outputs": []
    },
    {
      "cell_type": "code",
      "source": [],
      "metadata": {
        "id": "0nZ1qOSgSUyY"
      },
      "execution_count": null,
      "outputs": []
    },
    {
      "cell_type": "code",
      "source": [],
      "metadata": {
        "id": "MEgFQWn9SUv0"
      },
      "execution_count": null,
      "outputs": []
    },
    {
      "cell_type": "code",
      "source": [],
      "metadata": {
        "id": "w1lx8yAcSUtK"
      },
      "execution_count": null,
      "outputs": []
    }
  ]
}